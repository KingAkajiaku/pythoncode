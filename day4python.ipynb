{
 "cells": [
  {
   "cell_type": "code",
   "execution_count": 1,
   "id": "97c56b49",
   "metadata": {},
   "outputs": [],
   "source": [
    "import math"
   ]
  },
  {
   "cell_type": "code",
   "execution_count": 2,
   "id": "c14b000b",
   "metadata": {},
   "outputs": [
    {
     "name": "stdout",
     "output_type": "stream",
     "text": [
      "['__doc__', '__loader__', '__name__', '__package__', '__spec__', 'acos', 'acosh', 'asin', 'asinh', 'atan', 'atan2', 'atanh', 'ceil', 'comb', 'copysign', 'cos', 'cosh', 'degrees', 'dist', 'e', 'erf', 'erfc', 'exp', 'expm1', 'fabs', 'factorial', 'floor', 'fmod', 'frexp', 'fsum', 'gamma', 'gcd', 'hypot', 'inf', 'isclose', 'isfinite', 'isinf', 'isnan', 'isqrt', 'lcm', 'ldexp', 'lgamma', 'log', 'log10', 'log1p', 'log2', 'modf', 'nan', 'nextafter', 'perm', 'pi', 'pow', 'prod', 'radians', 'remainder', 'sin', 'sinh', 'sqrt', 'tan', 'tanh', 'tau', 'trunc', 'ulp']\n"
     ]
    }
   ],
   "source": [
    "print(dir(math))"
   ]
  },
  {
   "cell_type": "code",
   "execution_count": 3,
   "id": "f7419801",
   "metadata": {},
   "outputs": [
    {
     "name": "stdout",
     "output_type": "stream",
     "text": [
      "16\n",
      "15\n",
      "3.9370039370059056\n"
     ]
    }
   ],
   "source": [
    "number = 15.5\n",
    "print(math.ceil(number))\n",
    "print(math.floor(number))\n",
    "print(math.sqrt(number))"
   ]
  },
  {
   "cell_type": "code",
   "execution_count": 4,
   "id": "7e370315",
   "metadata": {},
   "outputs": [
    {
     "name": "stdout",
     "output_type": "stream",
     "text": [
      "['Counter', 'Decimal', 'Fraction', 'NormalDist', 'StatisticsError', '__all__', '__builtins__', '__cached__', '__doc__', '__file__', '__loader__', '__name__', '__package__', '__spec__', '_coerce', '_convert', '_exact_ratio', '_fail_neg', '_find_lteq', '_find_rteq', '_isfinite', '_normal_dist_inv_cdf', '_ss', '_sum', 'bisect_left', 'bisect_right', 'erf', 'exp', 'fabs', 'fmean', 'fsum', 'geometric_mean', 'groupby', 'harmonic_mean', 'hypot', 'itemgetter', 'log', 'math', 'mean', 'median', 'median_grouped', 'median_high', 'median_low', 'mode', 'multimode', 'numbers', 'pstdev', 'pvariance', 'quantiles', 'random', 'sqrt', 'stdev', 'tau', 'variance']\n"
     ]
    }
   ],
   "source": [
    "import statistics as stat\n",
    "print(dir(stat))"
   ]
  },
  {
   "cell_type": "code",
   "execution_count": 5,
   "id": "9d414ef7",
   "metadata": {},
   "outputs": [
    {
     "name": "stdout",
     "output_type": "stream",
     "text": [
      "62\n",
      "58\n",
      "[35.0, 58.0, 96.0]\n"
     ]
    }
   ],
   "source": [
    "numbers = [45,78,96,58,96,35,26]\n",
    "print(stat.mean(numbers))\n",
    "print(stat.median(numbers))\n",
    "print(stat.quantiles(numbers))"
   ]
  },
  {
   "cell_type": "code",
   "execution_count": 6,
   "id": "210e8c2c",
   "metadata": {},
   "outputs": [
    {
     "name": "stdout",
     "output_type": "stream",
     "text": [
      "['BPF', 'LOG4', 'NV_MAGICCONST', 'RECIP_BPF', 'Random', 'SG_MAGICCONST', 'SystemRandom', 'TWOPI', '_Sequence', '_Set', '__all__', '__builtins__', '__cached__', '__doc__', '__file__', '__loader__', '__name__', '__package__', '__spec__', '_accumulate', '_acos', '_bisect', '_ceil', '_cos', '_e', '_exp', '_floor', '_inst', '_log', '_os', '_pi', '_random', '_repeat', '_sha512', '_sin', '_sqrt', '_test', '_test_generator', '_urandom', '_warn', 'betavariate', 'choice', 'choices', 'expovariate', 'gammavariate', 'gauss', 'getrandbits', 'getstate', 'lognormvariate', 'normalvariate', 'paretovariate', 'randbytes', 'randint', 'random', 'randrange', 'sample', 'seed', 'setstate', 'shuffle', 'triangular', 'uniform', 'vonmisesvariate', 'weibullvariate']\n"
     ]
    }
   ],
   "source": [
    "import random\n",
    "print(dir(random))"
   ]
  },
  {
   "cell_type": "code",
   "execution_count": 8,
   "id": "a8583e86",
   "metadata": {},
   "outputs": [
    {
     "data": {
      "text/plain": [
       "18"
      ]
     },
     "execution_count": 8,
     "metadata": {},
     "output_type": "execute_result"
    }
   ],
   "source": [
    "random.randint(14,25)"
   ]
  },
  {
   "cell_type": "code",
   "execution_count": 9,
   "id": "54ade482",
   "metadata": {},
   "outputs": [
    {
     "name": "stdout",
     "output_type": "stream",
     "text": [
      "[96, 58, 35, 78, 96, 26, 45]\n"
     ]
    }
   ],
   "source": [
    "random.shuffle(numbers)\n",
    "print(numbers)"
   ]
  },
  {
   "cell_type": "code",
   "execution_count": 10,
   "id": "7a3ce0cf",
   "metadata": {},
   "outputs": [
    {
     "data": {
      "text/plain": [
       "96"
      ]
     },
     "execution_count": 10,
     "metadata": {},
     "output_type": "execute_result"
    }
   ],
   "source": [
    "random.choice(numbers)"
   ]
  },
  {
   "cell_type": "markdown",
   "id": "b87cfec8",
   "metadata": {},
   "source": [
    "# CONDITIONAL STATEMENT"
   ]
  },
  {
   "cell_type": "code",
   "execution_count": 11,
   "id": "c91d0bb2",
   "metadata": {},
   "outputs": [],
   "source": [
    "#A conditional statement tells a program to excute an actions depending if the condition is true or false"
   ]
  },
  {
   "cell_type": "code",
   "execution_count": 12,
   "id": "bac45650",
   "metadata": {},
   "outputs": [
    {
     "name": "stdout",
     "output_type": "stream",
     "text": [
      "please provide a number5\n",
      "5 is a positive number\n"
     ]
    }
   ],
   "source": [
    "num = int(input('please provide a number'))\n",
    "if num > 0:\n",
    "    print(f'{num} is a positive number')"
   ]
  },
  {
   "cell_type": "code",
   "execution_count": 14,
   "id": "52609add",
   "metadata": {},
   "outputs": [
    {
     "name": "stdout",
     "output_type": "stream",
     "text": [
      "please provide a number-4\n",
      "-4 is a negative number or zero\n"
     ]
    }
   ],
   "source": [
    "num = int(input('please provide a number'))\n",
    "if num > 0:\n",
    "    print(f'{num} is a positive number')\n",
    "else:\n",
    "    print(f'{num} is a negative number or zero')"
   ]
  },
  {
   "cell_type": "code",
   "execution_count": 15,
   "id": "4d1d6254",
   "metadata": {},
   "outputs": [
    {
     "name": "stdout",
     "output_type": "stream",
     "text": [
      "weight size:20\n",
      "No charges as your weight is less than or equal to our default weight\n"
     ]
    }
   ],
   "source": [
    "default_weight = 23\n",
    "customer_weight = float(input('weight size:'))\n",
    "if customer_weight > default_weight:\n",
    "    finalprice = customer_weight*200\n",
    "    print(f'your shipping fee is {finalprice}')\n",
    "else:\n",
    "    print('No charges as your weight is less than or equal to our default weight')"
   ]
  },
  {
   "cell_type": "code",
   "execution_count": 16,
   "id": "a3972a86",
   "metadata": {},
   "outputs": [
    {
     "name": "stdout",
     "output_type": "stream",
     "text": [
      "WELCOME TO M AND B PLAZA\n",
      "PRESS 1 to navigate to shop1\n",
      "PRESS 2 to navigate to shop2\n",
      "PRESS 3 to navigate to shop3\n",
      "PRESS 4 to navigate to shop4\n",
      "PRESS 5 to navigate to shop5\n",
      "\n",
      "press the lift button to your desire shop1\n",
      "pom pom shop 1\n"
     ]
    }
   ],
   "source": [
    "print ('WELCOME TO M AND B PLAZA')\n",
    "print('''PRESS 1 to navigate to shop1\n",
    "PRESS 2 to navigate to shop2\n",
    "PRESS 3 to navigate to shop3\n",
    "PRESS 4 to navigate to shop4\n",
    "PRESS 5 to navigate to shop5\n",
    "''')\n",
    "option = int(input('press the lift button to your desire shop'))\n",
    "if option ==1:\n",
    "    print('pom pom shop 1')\n",
    "elif option == 2:\n",
    "    print('pom pom shop 2')\n",
    "elif option == 3:\n",
    "    print('pom pom shop 3')\n",
    "elif option == 4:\n",
    "    print('pom pom shop 4')\n",
    "elif option == 5:\n",
    "    print ('pom pom shop 5')\n",
    "else:\n",
    "    print('invalid option')"
   ]
  },
  {
   "cell_type": "code",
   "execution_count": null,
   "id": "83d87c67",
   "metadata": {},
   "outputs": [],
   "source": []
  }
 ],
 "metadata": {
  "kernelspec": {
   "display_name": "Python 3 (ipykernel)",
   "language": "python",
   "name": "python3"
  },
  "language_info": {
   "codemirror_mode": {
    "name": "ipython",
    "version": 3
   },
   "file_extension": ".py",
   "mimetype": "text/x-python",
   "name": "python",
   "nbconvert_exporter": "python",
   "pygments_lexer": "ipython3",
   "version": "3.9.12"
  }
 },
 "nbformat": 4,
 "nbformat_minor": 5
}
