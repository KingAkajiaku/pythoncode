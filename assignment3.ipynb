{
 "cells": [
  {
   "cell_type": "code",
   "execution_count": 9,
   "id": "54abb57b",
   "metadata": {},
   "outputs": [],
   "source": [
    "accounts = {'Raphael':9000,'Ebuka':3000,'Ifeanyi':4000}\n",
    "def aza ():\n",
    "    actions = input('enter action')\n",
    "    account_details = input('please provide your account name')\n",
    "    for names in accounts:\n",
    "        if account_details == names:\n",
    "            if actions == 'transfer': \n",
    "                to_account = input('please provide your destination')\n",
    "                \n",
    "                amount = int(input('enter the amount to transfer'))\n",
    "                accounts[account_details] = accounts[account_details] - amount\n",
    "                accounts[to_account] += amount\n",
    "                return accounts\n",
    "            elif actions == 'withdraw':\n",
    "                amount = float(input('Enter amount to withdraw'))\n",
    "                accounts[account_details] = accounts[account_details] - amount\n",
    "            elif actions == 'deposit':\n",
    "                    amount = float(input('Enter amount to desposit'))\n",
    "                    accounts[account_details] += amount\n",
    "    return accounts\n",
    "            \n",
    "                \n",
    "\n"
   ]
  },
  {
   "cell_type": "code",
   "execution_count": 11,
   "id": "702b20e5",
   "metadata": {},
   "outputs": [
    {
     "name": "stdout",
     "output_type": "stream",
     "text": [
      "enter actiondeposit\n",
      "please provide your account nameEbuka\n",
      "Enter amount to desposit1000\n"
     ]
    },
    {
     "data": {
      "text/plain": [
       "{'Raphael': 9000, 'Ebuka': 3000.0, 'Ifeanyi': 4000}"
      ]
     },
     "execution_count": 11,
     "metadata": {},
     "output_type": "execute_result"
    }
   ],
   "source": [
    "aza()"
   ]
  },
  {
   "cell_type": "code",
   "execution_count": null,
   "id": "058c156a",
   "metadata": {},
   "outputs": [],
   "source": []
  }
 ],
 "metadata": {
  "kernelspec": {
   "display_name": "Python 3 (ipykernel)",
   "language": "python",
   "name": "python3"
  },
  "language_info": {
   "codemirror_mode": {
    "name": "ipython",
    "version": 3
   },
   "file_extension": ".py",
   "mimetype": "text/x-python",
   "name": "python",
   "nbconvert_exporter": "python",
   "pygments_lexer": "ipython3",
   "version": "3.9.12"
  }
 },
 "nbformat": 4,
 "nbformat_minor": 5
}
