{
 "cells": [
  {
   "cell_type": "markdown",
   "id": "e549f6c8",
   "metadata": {},
   "source": [
    "# data conversion"
   ]
  },
  {
   "cell_type": "code",
   "execution_count": 6,
   "id": "27cbdd15",
   "metadata": {},
   "outputs": [],
   "source": [
    "num1= 5"
   ]
  },
  {
   "cell_type": "code",
   "execution_count": 7,
   "id": "3943a9b9",
   "metadata": {},
   "outputs": [
    {
     "name": "stdout",
     "output_type": "stream",
     "text": [
      "12\n"
     ]
    }
   ],
   "source": [
    "num2=int(12.6)\n",
    "print(num2)"
   ]
  },
  {
   "cell_type": "code",
   "execution_count": 10,
   "id": "793fb6d6",
   "metadata": {},
   "outputs": [],
   "source": [
    "#float can be converted to int"
   ]
  },
  {
   "cell_type": "code",
   "execution_count": 11,
   "id": "b2e65683",
   "metadata": {},
   "outputs": [
    {
     "name": "stdout",
     "output_type": "stream",
     "text": [
      "45.0\n"
     ]
    }
   ],
   "source": [
    "num3 = float(45)\n",
    "print(num3)"
   ]
  },
  {
   "cell_type": "code",
   "execution_count": 13,
   "id": "37e6603d",
   "metadata": {},
   "outputs": [],
   "source": [
    "# int can be converted to float"
   ]
  },
  {
   "cell_type": "code",
   "execution_count": 14,
   "id": "b901237c",
   "metadata": {},
   "outputs": [
    {
     "name": "stdout",
     "output_type": "stream",
     "text": [
      "45.0\n"
     ]
    }
   ],
   "source": [
    "print(str(num3))"
   ]
  },
  {
   "cell_type": "code",
   "execution_count": 15,
   "id": "254e9590",
   "metadata": {},
   "outputs": [
    {
     "name": "stdout",
     "output_type": "stream",
     "text": [
      "12\n"
     ]
    }
   ],
   "source": [
    "print(str(num2))"
   ]
  },
  {
   "cell_type": "code",
   "execution_count": 16,
   "id": "2042152b",
   "metadata": {},
   "outputs": [
    {
     "ename": "ValueError",
     "evalue": "invalid literal for int() with base 10: 'python'",
     "output_type": "error",
     "traceback": [
      "\u001b[1;31m---------------------------------------------------------------------------\u001b[0m",
      "\u001b[1;31mValueError\u001b[0m                                Traceback (most recent call last)",
      "Input \u001b[1;32mIn [16]\u001b[0m, in \u001b[0;36m<cell line: 1>\u001b[1;34m()\u001b[0m\n\u001b[1;32m----> 1\u001b[0m word \u001b[38;5;241m=\u001b[39m \u001b[38;5;28;43mint\u001b[39;49m\u001b[43m(\u001b[49m\u001b[38;5;124;43m'\u001b[39;49m\u001b[38;5;124;43mpython\u001b[39;49m\u001b[38;5;124;43m'\u001b[39;49m\u001b[43m)\u001b[49m\n\u001b[0;32m      2\u001b[0m \u001b[38;5;28mprint\u001b[39m(word)\n",
      "\u001b[1;31mValueError\u001b[0m: invalid literal for int() with base 10: 'python'"
     ]
    }
   ],
   "source": [
    "word = int('python')\n",
    "print(word)"
   ]
  },
  {
   "cell_type": "code",
   "execution_count": 17,
   "id": "136ad153",
   "metadata": {},
   "outputs": [
    {
     "name": "stdout",
     "output_type": "stream",
     "text": [
      "65\n"
     ]
    }
   ],
   "source": [
    "number = int('65')\n",
    "print(number)"
   ]
  },
  {
   "cell_type": "code",
   "execution_count": 18,
   "id": "f265e4d5",
   "metadata": {},
   "outputs": [
    {
     "name": "stdout",
     "output_type": "stream",
     "text": [
      "please provide your namesam\n"
     ]
    }
   ],
   "source": [
    "name = input('please provide your name')"
   ]
  },
  {
   "cell_type": "code",
   "execution_count": 21,
   "id": "975e52eb",
   "metadata": {},
   "outputs": [
    {
     "name": "stdout",
     "output_type": "stream",
     "text": [
      "sam\n"
     ]
    }
   ],
   "source": [
    "print(name)"
   ]
  },
  {
   "cell_type": "code",
   "execution_count": 23,
   "id": "03ae2e47",
   "metadata": {},
   "outputs": [
    {
     "name": "stdout",
     "output_type": "stream",
     "text": [
      "please enter your age15\n"
     ]
    }
   ],
   "source": [
    "age = float(input('please enter your age'))"
   ]
  },
  {
   "cell_type": "markdown",
   "id": "446cfa32",
   "metadata": {},
   "source": [
    "# ARITHIMETIC OPERATORS\n",
    "# +\n",
    "# -\n",
    "# *\n",
    "# /\n",
    "# %\n",
    "# //\n",
    "**"
   ]
  },
  {
   "cell_type": "code",
   "execution_count": 27,
   "id": "53edc5fb",
   "metadata": {},
   "outputs": [
    {
     "name": "stdout",
     "output_type": "stream",
     "text": [
      "Enter first Number40\n",
      "Enter second Number20\n",
      "40 + 20 = 60\n",
      "40 - 20 = 20\n",
      "40 * 20 = 800\n",
      "40 / 20 = 2.0\n",
      "40 % 20 = 0\n",
      "40 // 20 = 2\n",
      "40 ** 20 = 109951162777600000000000000000000\n"
     ]
    }
   ],
   "source": [
    "num1 = int(input('Enter first Number'))\n",
    "num2 = int(input('Enter second Number'))\n",
    "print(f'{num1} + {num2} = {num1 + num2}')\n",
    "print(f'{num1} - {num2} = {num1 - num2}')\n",
    "print(f'{num1} * {num2} = {num1 * num2}')\n",
    "print(f'{num1} / {num2} = {num1 / num2}')\n",
    "print(f'{num1} % {num2} = {num1 % num2}')\n",
    "print(f'{num1} // {num2} = {num1 // num2}')\n",
    "print(f'{num1} ** {num2} = {num1 ** num2}')"
   ]
  },
  {
   "cell_type": "code",
   "execution_count": 28,
   "id": "0587bc77",
   "metadata": {},
   "outputs": [
    {
     "name": "stdout",
     "output_type": "stream",
     "text": [
      "Enter first Number45\n",
      "Enter second Number60\n",
      "45 > 60 = False\n",
      "45 < 60 = True\n",
      "45 >= 60 = False\n",
      "45 <= 60 = True\n",
      "45 == 60 = False\n",
      "45 != 60 = True\n"
     ]
    }
   ],
   "source": [
    "num1 = int(input('Enter first Number'))\n",
    "num2 = int(input('Enter second Number'))\n",
    "print(f'{num1} > {num2} = {num1 > num2}')\n",
    "print(f'{num1} < {num2} = {num1 < num2}')\n",
    "print(f'{num1} >= {num2} = {num1 >= num2}')\n",
    "print(f'{num1} <= {num2} = {num1 <= num2}')\n",
    "print(f'{num1} == {num2} = {num1 == num2}')\n",
    "print(f'{num1} != {num2} = {num1 != num2}')"
   ]
  },
  {
   "cell_type": "code",
   "execution_count": 29,
   "id": "1708ed6f",
   "metadata": {},
   "outputs": [
    {
     "name": "stdout",
     "output_type": "stream",
     "text": [
      "Enter first Number52\n",
      "Enter second Number20\n",
      "False\n",
      "True\n",
      "False\n"
     ]
    }
   ],
   "source": [
    "num1 = int(input('Enter first Number'))\n",
    "num2 = int(input('Enter second Number'))\n",
    "print(num1 > num2 and num2 == num1)\n",
    "print(num1 > num2 or num2 == num1)\n",
    "print(not num1)"
   ]
  },
  {
   "cell_type": "code",
   "execution_count": null,
   "id": "b266de0c",
   "metadata": {},
   "outputs": [],
   "source": []
  }
 ],
 "metadata": {
  "kernelspec": {
   "display_name": "Python 3 (ipykernel)",
   "language": "python",
   "name": "python3"
  },
  "language_info": {
   "codemirror_mode": {
    "name": "ipython",
    "version": 3
   },
   "file_extension": ".py",
   "mimetype": "text/x-python",
   "name": "python",
   "nbconvert_exporter": "python",
   "pygments_lexer": "ipython3",
   "version": "3.9.12"
  }
 },
 "nbformat": 4,
 "nbformat_minor": 5
}
