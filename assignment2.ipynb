{
 "cells": [
  {
   "cell_type": "code",
   "execution_count": 6,
   "id": "a4a4d83e",
   "metadata": {},
   "outputs": [
    {
     "name": "stdout",
     "output_type": "stream",
     "text": [
      "provide your salary5000000\n",
      "Please provide your years of working5\n",
      "don't come here again\n"
     ]
    }
   ],
   "source": [
    "expected_year = 5\n",
    "salary = int(input('provide your salary'))\n",
    "year = int(input('Please provide your years of working'))\n",
    "if year > expected_year:\n",
    "    bonus = ((salary/100)*5)\n",
    "    print(f'bonus is {bonus} your net salary is {bonus+salary}')\n",
    "else: \n",
    "    print('don\\'t come here again')"
   ]
  },
  {
   "cell_type": "code",
   "execution_count": 9,
   "id": "6076272d",
   "metadata": {},
   "outputs": [
    {
     "name": "stdout",
     "output_type": "stream",
     "text": [
      "value1 is the max value\n"
     ]
    }
   ],
   "source": [
    "value1 = 20\n",
    "value2 = 10\n",
    "if value1 > value2:\n",
    "    print('value1 is the max value')\n",
    "else:\n",
    "    print('value2 is the max value')"
   ]
  },
  {
   "cell_type": "code",
   "execution_count": 9,
   "id": "b6a52ba5",
   "metadata": {},
   "outputs": [
    {
     "name": "stdout",
     "output_type": "stream",
     "text": [
      "Please provide your age10\n",
      "Please provide your age20\n",
      "Please provide your age30\n",
      "30 is the oldest\n",
      "10 is the younger\n"
     ]
    }
   ],
   "source": [
    "first_age = int(input('Please provide your age'))\n",
    "second_age = int(input('Please provide your age'))\n",
    "third_age = int(input('Please provide your age'))\n",
    "if first_age > second_age and first_age > second_age:\n",
    "    print(first_age, 'is the oldest')\n",
    "elif second_age > first_age and second_age > third_age:\n",
    "    print(second_age, 'is the oldest')\n",
    "elif third_age > first_age and third_age > second_age:\n",
    "    print(third_age, 'is the oldest')\n",
    "if first_age < second_age and first_age < second_age:\n",
    "    print(first_age, 'is the younger')\n",
    "elif second_age < first_age and second_age < third_age:\n",
    "    print(second_age, 'is the younger')\n",
    "elif third_age < first_age and third_age < second_age:\n",
    "    print(third_age, 'is the younger')"
   ]
  },
  {
   "cell_type": "code",
   "execution_count": 11,
   "id": "332bc886",
   "metadata": {},
   "outputs": [
    {
     "name": "stdout",
     "output_type": "stream",
     "text": [
      "number of classes held80\n",
      "number of class attended20\n",
      "you are not allowed to write the exam\n"
     ]
    }
   ],
   "source": [
    "expected_percentage = 75\n",
    "class_held = int(input('number of classes held'))\n",
    "class_attended = int(input('number of class attended'))\n",
    "user_percentage = ((class_held/100)*class_attended)\n",
    "if user_percentage > expected_percentage:\n",
    "    print(f'your percentage is {user_percentage} you are allowed to write the exam')\n",
    "else:\n",
    "    print('you are not allowed to write the exam')"
   ]
  },
  {
   "cell_type": "code",
   "execution_count": 12,
   "id": "d4da36dd",
   "metadata": {},
   "outputs": [
    {
     "name": "stdout",
     "output_type": "stream",
     "text": [
      "Please your age:40\n",
      "Please provide your Gender:female\n",
      "Please provide your Statuss\n",
      "employee can work only in a urban area\n"
     ]
    }
   ],
   "source": [
    "Age = int (input('Please your age:'))\n",
    "Gender = str(input('Please provide your Gender:'))\n",
    "Status = str(input('Please provide your Status'))\n",
    "if Gender == 'female':\n",
    "    print('employee can work only in a urban area')\n",
    "elif Gender == 'male' and Age >=20 and Age >=40:\n",
    "    print('empolyee can work anywhere')\n",
    "elif Gender == 'male' and Age >=40 and Age <=60:\n",
    "    print('emplyee can work only in urban area')\n",
    "else:\n",
    "    print('ERROR')\n"
   ]
  },
  {
   "cell_type": "code",
   "execution_count": null,
   "id": "087e26c1",
   "metadata": {},
   "outputs": [],
   "source": []
  }
 ],
 "metadata": {
  "kernelspec": {
   "display_name": "Python 3 (ipykernel)",
   "language": "python",
   "name": "python3"
  },
  "language_info": {
   "codemirror_mode": {
    "name": "ipython",
    "version": 3
   },
   "file_extension": ".py",
   "mimetype": "text/x-python",
   "name": "python",
   "nbconvert_exporter": "python",
   "pygments_lexer": "ipython3",
   "version": "3.9.12"
  }
 },
 "nbformat": 4,
 "nbformat_minor": 5
}
