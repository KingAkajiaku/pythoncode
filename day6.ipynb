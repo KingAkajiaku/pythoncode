{
 "cells": [
  {
   "cell_type": "markdown",
   "id": "a8cfc25e",
   "metadata": {},
   "source": [
    "# DEF FUNCTION"
   ]
  },
  {
   "cell_type": "code",
   "execution_count": 2,
   "id": "33fc611d",
   "metadata": {},
   "outputs": [
    {
     "data": {
      "text/plain": [
       "'welcome to python class'"
      ]
     },
     "execution_count": 2,
     "metadata": {},
     "output_type": "execute_result"
    }
   ],
   "source": [
    "def greet():\n",
    "    return 'welcome to python class'\n",
    "greet()"
   ]
  },
  {
   "cell_type": "code",
   "execution_count": 3,
   "id": "39aaf665",
   "metadata": {},
   "outputs": [
    {
     "data": {
      "text/plain": [
       "'welcome to python class'"
      ]
     },
     "execution_count": 3,
     "metadata": {},
     "output_type": "execute_result"
    }
   ],
   "source": [
    "greet()"
   ]
  },
  {
   "cell_type": "code",
   "execution_count": 4,
   "id": "780dd430",
   "metadata": {},
   "outputs": [
    {
     "data": {
      "text/plain": [
       "'Welcome to python class Sam'"
      ]
     },
     "execution_count": 4,
     "metadata": {},
     "output_type": "execute_result"
    }
   ],
   "source": [
    "def greet2 (name):\n",
    "    return f'Welcome to python class {name}'\n",
    "greet2('Sam')"
   ]
  },
  {
   "cell_type": "code",
   "execution_count": 5,
   "id": "66aafac9",
   "metadata": {},
   "outputs": [
    {
     "data": {
      "text/plain": [
       "'Welcome to python class Sam'"
      ]
     },
     "execution_count": 5,
     "metadata": {},
     "output_type": "execute_result"
    }
   ],
   "source": [
    "greet2('Sam')"
   ]
  },
  {
   "cell_type": "code",
   "execution_count": 6,
   "id": "3d5e96a7",
   "metadata": {},
   "outputs": [
    {
     "name": "stdout",
     "output_type": "stream",
     "text": [
      "Please enter your name:Sam\n"
     ]
    },
    {
     "data": {
      "text/plain": [
       "'Welcome to python class Sam'"
      ]
     },
     "execution_count": 6,
     "metadata": {},
     "output_type": "execute_result"
    }
   ],
   "source": [
    "greet2(input('Please enter your name:'))"
   ]
  },
  {
   "cell_type": "markdown",
   "id": "036ff39a",
   "metadata": {},
   "source": [
    "Ask user to enter age, sex ( M or F ), marital status ( Y or N ) and then using following rules print their place of service.\n",
    "\n",
    "if employee is female, then she will work only in urban areas.\n",
    "\n",
    " \n",
    "\n",
    "if employee is a male and age is in between 20 to 40 then he may work in anywhere\n",
    "\n",
    " \n",
    "\n",
    "if employee is male and age is in between 40 t0 60 then he will work in urban areas only.\n",
    "\n",
    " \n",
    "\n",
    "And any other input of age should print \"ERROR\"."
   ]
  },
  {
   "cell_type": "code",
   "execution_count": 10,
   "id": "95597cd5",
   "metadata": {},
   "outputs": [
    {
     "data": {
      "text/plain": [
       "'Employee will only work in the urban area'"
      ]
     },
     "execution_count": 10,
     "metadata": {},
     "output_type": "execute_result"
    }
   ],
   "source": [
    "def posting (age,gender,martials):\n",
    "    if gender == 'F':\n",
    "        return 'Employee will work only in the urban area'\n",
    "    elif gender == 'M' and age >=20 and age <=40:\n",
    "        return 'Employee can work anywhere'\n",
    "    elif gender == 'M' and age >=40 and age <=60:\n",
    "        return 'Employee will only work in the urban area'\n",
    "    else:\n",
    "        return('ERROR')\n",
    "posting(45,'M','Y')\n",
    "        "
   ]
  },
  {
   "cell_type": "code",
   "execution_count": 11,
   "id": "b1ec4c14",
   "metadata": {},
   "outputs": [
    {
     "data": {
      "text/plain": [
       "'Employee will work only in the urban area'"
      ]
     },
     "execution_count": 11,
     "metadata": {},
     "output_type": "execute_result"
    }
   ],
   "source": [
    "posting(25,'F','N')"
   ]
  },
  {
   "cell_type": "code",
   "execution_count": 12,
   "id": "f45eda99",
   "metadata": {},
   "outputs": [
    {
     "data": {
      "text/plain": [
       "'Employee will only work in the urban area'"
      ]
     },
     "execution_count": 12,
     "metadata": {},
     "output_type": "execute_result"
    }
   ],
   "source": [
    "def posting (age,gender,martials = 'S'):\n",
    "    if gender == 'F':\n",
    "        return 'Employee will work only in the urban area'\n",
    "    elif gender == 'M' and age >=20 and age <=40:\n",
    "        return 'Employee can work anywhere'\n",
    "    elif gender == 'M' and age >=40 and age <=60:\n",
    "        return 'Employee will only work in the urban area'\n",
    "    else:\n",
    "        return('ERROR')\n",
    "posting(45,'M','Y')\n",
    "        "
   ]
  },
  {
   "cell_type": "markdown",
   "id": "3d49d5a6",
   "metadata": {},
   "source": [
    "# VARIABLE LENGHT FUNCTION"
   ]
  },
  {
   "cell_type": "code",
   "execution_count": 13,
   "id": "605e51f2",
   "metadata": {},
   "outputs": [
    {
     "name": "stdout",
     "output_type": "stream",
     "text": [
      "<class 'tuple'>\n",
      "The average of (78, 54, 65, 89, 65, 78, 45, 12, 36, 85, 47) is 59.45454545454545\n"
     ]
    }
   ],
   "source": [
    "def average(*num):\n",
    "    print(type(num))\n",
    "    avg = sum(num)/len(num) # this is the funular or equation that is used to solve average\n",
    "    print(f'The average of {num} is {avg}')\n",
    "average(78,54,65,89,65,78,45,12,36,85,47)"
   ]
  },
  {
   "cell_type": "code",
   "execution_count": 14,
   "id": "220fa8b6",
   "metadata": {},
   "outputs": [
    {
     "name": "stdout",
     "output_type": "stream",
     "text": [
      "<class 'tuple'>\n",
      "The average of (45, 89, 87, 45, 65) is 66.2\n"
     ]
    }
   ],
   "source": [
    "numbers = [45,89,87,45,65]\n",
    "average(*numbers)"
   ]
  },
  {
   "cell_type": "code",
   "execution_count": 17,
   "id": "14598d3b",
   "metadata": {},
   "outputs": [
    {
     "name": "stdout",
     "output_type": "stream",
     "text": [
      "<class 'dict'>\n",
      "Name :: Ade\n",
      "Gender :: Male\n",
      "Age :: 35\n"
     ]
    }
   ],
   "source": [
    "def details(**records):\n",
    "    print (type(records))\n",
    "    for key, value in records.items():\n",
    "        print(key,'::', value)\n",
    "details(Name = 'Ade',Gender = 'Male',Age = 35)\n",
    "        "
   ]
  },
  {
   "cell_type": "code",
   "execution_count": 20,
   "id": "64d90bc6",
   "metadata": {},
   "outputs": [
    {
     "name": "stdout",
     "output_type": "stream",
     "text": [
      "<class 'dict'>\n",
      "School :: Ade college\n",
      "year :: 2002\n",
      "Chairman :: Mr bode lawel\n"
     ]
    }
   ],
   "source": [
    "final = {\n",
    "    'School':'Ade college',\n",
    "    'year':2002,\n",
    "    'Chairman':'Mr bode lawel'\n",
    "}\n",
    "details(**final)"
   ]
  },
  {
   "cell_type": "code",
   "execution_count": null,
   "id": "5de9a16a",
   "metadata": {},
   "outputs": [],
   "source": []
  }
 ],
 "metadata": {
  "kernelspec": {
   "display_name": "Python 3 (ipykernel)",
   "language": "python",
   "name": "python3"
  },
  "language_info": {
   "codemirror_mode": {
    "name": "ipython",
    "version": 3
   },
   "file_extension": ".py",
   "mimetype": "text/x-python",
   "name": "python",
   "nbconvert_exporter": "python",
   "pygments_lexer": "ipython3",
   "version": "3.9.12"
  }
 },
 "nbformat": 4,
 "nbformat_minor": 5
}
