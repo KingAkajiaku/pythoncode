{
 "cells": [
  {
   "cell_type": "markdown",
   "id": "bea10cb1",
   "metadata": {},
   "source": [
    "# ITERABLE OBJECT\n",
    "# TUPLE"
   ]
  },
  {
   "cell_type": "code",
   "execution_count": 35,
   "id": "c4e15803",
   "metadata": {},
   "outputs": [],
   "source": [
    "# TUPLE\n",
    "# Tuple is unchangeable\n",
    "# tuple must be ordered\n",
    "# tuple is denoted with ()\n",
    "# to access value from a tuple we use the index location\n"
   ]
  },
  {
   "cell_type": "code",
   "execution_count": 38,
   "id": "f06d6bbc",
   "metadata": {},
   "outputs": [],
   "source": [
    "numbers = (25,45,89,65,36,25,28,96,35,45,89)"
   ]
  },
  {
   "cell_type": "code",
   "execution_count": 39,
   "id": "dd1256df",
   "metadata": {},
   "outputs": [
    {
     "name": "stdout",
     "output_type": "stream",
     "text": [
      "11\n"
     ]
    }
   ],
   "source": [
    "print(len(numbers)) #len functions its used to accumulate the total value in a valuable"
   ]
  },
  {
   "cell_type": "code",
   "execution_count": 40,
   "id": "323785db",
   "metadata": {},
   "outputs": [
    {
     "data": {
      "text/plain": [
       "25"
      ]
     },
     "execution_count": 40,
     "metadata": {},
     "output_type": "execute_result"
    }
   ],
   "source": [
    "numbers[5]"
   ]
  },
  {
   "cell_type": "code",
   "execution_count": 41,
   "id": "2b1929e2",
   "metadata": {},
   "outputs": [
    {
     "data": {
      "text/plain": [
       "65"
      ]
     },
     "execution_count": 41,
     "metadata": {},
     "output_type": "execute_result"
    }
   ],
   "source": [
    "numbers[-8]"
   ]
  },
  {
   "cell_type": "code",
   "execution_count": 42,
   "id": "09da4e44",
   "metadata": {},
   "outputs": [
    {
     "data": {
      "text/plain": [
       "(89, 65, 36, 25, 28)"
      ]
     },
     "execution_count": 42,
     "metadata": {},
     "output_type": "execute_result"
    }
   ],
   "source": [
    "numbers[2:7]"
   ]
  },
  {
   "cell_type": "code",
   "execution_count": 43,
   "id": "d8336b80",
   "metadata": {},
   "outputs": [
    {
     "name": "stdout",
     "output_type": "stream",
     "text": [
      "2\n"
     ]
    }
   ],
   "source": [
    "print(numbers.count(45)) # count helps us to know how many same value we have in a valuable"
   ]
  },
  {
   "cell_type": "code",
   "execution_count": null,
   "id": "1e43c9be",
   "metadata": {},
   "outputs": [],
   "source": [
    "print(numbers.index(28)) #index is a function which allows us to derive a value in a particular location"
   ]
  },
  {
   "cell_type": "markdown",
   "id": "42fed52f",
   "metadata": {},
   "source": [
    "# LIST "
   ]
  },
  {
   "cell_type": "code",
   "execution_count": 7,
   "id": "2ba245dd",
   "metadata": {},
   "outputs": [],
   "source": [
    "fruits = ['Cherry','Lemon','Apple','Strewberry','Apple']"
   ]
  },
  {
   "cell_type": "code",
   "execution_count": 8,
   "id": "480b6d76",
   "metadata": {},
   "outputs": [
    {
     "name": "stdout",
     "output_type": "stream",
     "text": [
      "['Cherry', 'Lemon', 'Apple', 'Strewberry', 'Apple', 'Pear']\n"
     ]
    }
   ],
   "source": [
    "fruits.append('Pear')#append is used to add a new value in a list\n",
    "print(fruits)"
   ]
  },
  {
   "cell_type": "code",
   "execution_count": 11,
   "id": "fc1bac11",
   "metadata": {},
   "outputs": [
    {
     "name": "stdout",
     "output_type": "stream",
     "text": [
      "['Cherry', 'Lemon', 'Apple', 'Strewberry', 'Apple', 'Pear', 'Grape', 'Watermelon', 'Orange', 'Grape', 'Watermelon', 'Orange']\n"
     ]
    }
   ],
   "source": [
    "Sweeten = ['Grape','Watermelon','Orange']\n",
    "fruits.extend(Sweeten) # extend is a function that can be used to extend an existing list.\n",
    "print(fruits)"
   ]
  },
  {
   "cell_type": "code",
   "execution_count": 12,
   "id": "65935733",
   "metadata": {},
   "outputs": [
    {
     "name": "stdout",
     "output_type": "stream",
     "text": [
      "['Cherry', 'Lemon', 'Apple', 'Grape', 'Strewberry', 'Apple', 'Pear', 'Grape', 'Watermelon', 'Orange', 'Grape', 'Watermelon', 'Orange']\n"
     ]
    }
   ],
   "source": [
    "fruits.insert(3,'Grape') #insert functions allows me to bring in a new list and put it in a desire location.\n",
    "print(fruits)"
   ]
  },
  {
   "cell_type": "code",
   "execution_count": 13,
   "id": "1fddcf3d",
   "metadata": {},
   "outputs": [
    {
     "name": "stdout",
     "output_type": "stream",
     "text": [
      "['Cherry', 'Lemon', 'Apple', 'Grape', 'Strewberry', 'Pear', 'Grape', 'Watermelon', 'Orange', 'Grape', 'Watermelon', 'Orange']\n"
     ]
    }
   ],
   "source": [
    "fruits.pop(5) #pop fuctions is to remove the item in a location inside the list\n",
    "print(fruits)"
   ]
  },
  {
   "cell_type": "code",
   "execution_count": 16,
   "id": "504bc810",
   "metadata": {},
   "outputs": [],
   "source": [
    "fruits.remove('Pear') #remove function is to remove a item in the list by writting the value\n",
    "print(fruits)"
   ]
  },
  {
   "cell_type": "code",
   "execution_count": 18,
   "id": "961a4248",
   "metadata": {},
   "outputs": [
    {
     "name": "stdout",
     "output_type": "stream",
     "text": [
      "['Cherry', 'Lemon', 'Apple', 'Grape', 'Strewberry', 'Grape', 'Watermelon', 'Orange', 'Grape', 'Watermelon', 'Orange']\n"
     ]
    }
   ],
   "source": [
    "fruits_copy = fruits.copy()\n",
    "print(fruits_copy)"
   ]
  },
  {
   "cell_type": "code",
   "execution_count": 19,
   "id": "2117c352",
   "metadata": {},
   "outputs": [
    {
     "name": "stdout",
     "output_type": "stream",
     "text": [
      "[]\n"
     ]
    }
   ],
   "source": [
    "fruits_copy.clear()\n",
    "print(fruits_copy)"
   ]
  },
  {
   "cell_type": "code",
   "execution_count": 20,
   "id": "6be9678a",
   "metadata": {},
   "outputs": [
    {
     "ename": "NameError",
     "evalue": "name 'fruits_copy' is not defined",
     "output_type": "error",
     "traceback": [
      "\u001b[1;31m---------------------------------------------------------------------------\u001b[0m",
      "\u001b[1;31mNameError\u001b[0m                                 Traceback (most recent call last)",
      "Input \u001b[1;32mIn [20]\u001b[0m, in \u001b[0;36m<cell line: 2>\u001b[1;34m()\u001b[0m\n\u001b[0;32m      1\u001b[0m \u001b[38;5;28;01mdel\u001b[39;00m(fruits_copy)\n\u001b[1;32m----> 2\u001b[0m \u001b[38;5;28mprint\u001b[39m(\u001b[43mfruits_copy\u001b[49m)\n",
      "\u001b[1;31mNameError\u001b[0m: name 'fruits_copy' is not defined"
     ]
    }
   ],
   "source": [
    "del(fruits_copy)\n",
    "print(fruits_copy)"
   ]
  },
  {
   "cell_type": "markdown",
   "id": "d0f51ae4",
   "metadata": {},
   "source": [
    "# DICTIONARY"
   ]
  },
  {
   "cell_type": "code",
   "execution_count": 21,
   "id": "e4e70e93",
   "metadata": {},
   "outputs": [],
   "source": [
    "details = {\n",
    "    'name':'ikem',\n",
    "    'gender':'male',\n",
    "    'age':27,\n",
    "    'height':11.1,\n",
    "    'weight':'88'\n",
    "}"
   ]
  },
  {
   "cell_type": "code",
   "execution_count": 22,
   "id": "d6c94413",
   "metadata": {},
   "outputs": [
    {
     "data": {
      "text/plain": [
       "27"
      ]
     },
     "execution_count": 22,
     "metadata": {},
     "output_type": "execute_result"
    }
   ],
   "source": [
    "details['age']"
   ]
  },
  {
   "cell_type": "code",
   "execution_count": 25,
   "id": "489da667",
   "metadata": {},
   "outputs": [
    {
     "name": "stdout",
     "output_type": "stream",
     "text": [
      "dict_keys(['name', 'gender', 'age', 'height', 'weight'])\n"
     ]
    }
   ],
   "source": [
    "print(details.keys())"
   ]
  },
  {
   "cell_type": "code",
   "execution_count": 27,
   "id": "bb73ff5f",
   "metadata": {},
   "outputs": [
    {
     "name": "stdout",
     "output_type": "stream",
     "text": [
      "dict_values(['ikem', 'male', 27, 11.1, '88'])\n"
     ]
    }
   ],
   "source": [
    "print(details.values())"
   ]
  },
  {
   "cell_type": "code",
   "execution_count": 28,
   "id": "de55e591",
   "metadata": {},
   "outputs": [
    {
     "name": "stdout",
     "output_type": "stream",
     "text": [
      "dict_items([('name', 'ikem'), ('gender', 'male'), ('age', 27), ('height', 11.1), ('weight', '88')])\n"
     ]
    }
   ],
   "source": [
    "print (details.items())"
   ]
  },
  {
   "cell_type": "code",
   "execution_count": 30,
   "id": "fcbd8b69",
   "metadata": {},
   "outputs": [
    {
     "name": "stdout",
     "output_type": "stream",
     "text": [
      "{'name': 'ikem', 'gender': 'male', 'age': 27, 'height': 11.1}\n"
     ]
    }
   ],
   "source": [
    "details.popitem()\n",
    "print(details)"
   ]
  },
  {
   "cell_type": "code",
   "execution_count": 32,
   "id": "1f3fb623",
   "metadata": {},
   "outputs": [],
   "source": [
    "family = {\n",
    "    'first child':['ugonna',27,'male'],\n",
    "    'second child':['obum',67,'male'],\n",
    "    'third child':['nnenna',46,'female']\n",
    "    \n",
    "}"
   ]
  },
  {
   "cell_type": "code",
   "execution_count": 34,
   "id": "8d110e1d",
   "metadata": {},
   "outputs": [
    {
     "data": {
      "text/plain": [
       "'male'"
      ]
     },
     "execution_count": 34,
     "metadata": {},
     "output_type": "execute_result"
    }
   ],
   "source": [
    "family['first child'][2]"
   ]
  },
  {
   "cell_type": "code",
   "execution_count": 1,
   "id": "25ffe918",
   "metadata": {},
   "outputs": [
    {
     "ename": "NameError",
     "evalue": "name 'family' is not defined",
     "output_type": "error",
     "traceback": [
      "\u001b[1;31m---------------------------------------------------------------------------\u001b[0m",
      "\u001b[1;31mNameError\u001b[0m                                 Traceback (most recent call last)",
      "Input \u001b[1;32mIn [1]\u001b[0m, in \u001b[0;36m<cell line: 1>\u001b[1;34m()\u001b[0m\n\u001b[1;32m----> 1\u001b[0m \u001b[43mfamily\u001b[49m[\u001b[38;5;124m'\u001b[39m\u001b[38;5;124mfirst child\u001b[39m\u001b[38;5;124m'\u001b[39m][\u001b[38;5;241m1\u001b[39m]\n",
      "\u001b[1;31mNameError\u001b[0m: name 'family' is not defined"
     ]
    }
   ],
   "source": [
    "family['first child'][1]"
   ]
  },
  {
   "cell_type": "code",
   "execution_count": null,
   "id": "f9f572f3",
   "metadata": {},
   "outputs": [],
   "source": []
  }
 ],
 "metadata": {
  "kernelspec": {
   "display_name": "Python 3 (ipykernel)",
   "language": "python",
   "name": "python3"
  },
  "language_info": {
   "codemirror_mode": {
    "name": "ipython",
    "version": 3
   },
   "file_extension": ".py",
   "mimetype": "text/x-python",
   "name": "python",
   "nbconvert_exporter": "python",
   "pygments_lexer": "ipython3",
   "version": "3.9.12"
  }
 },
 "nbformat": 4,
 "nbformat_minor": 5
}
