{
 "cells": [
  {
   "cell_type": "markdown",
   "id": "929e4fc6",
   "metadata": {},
   "source": [
    "# CLASS AND OBJECT"
   ]
  },
  {
   "cell_type": "code",
   "execution_count": 3,
   "id": "8d9ebcd6",
   "metadata": {},
   "outputs": [
    {
     "data": {
      "text/plain": [
       "'Male'"
      ]
     },
     "execution_count": 3,
     "metadata": {},
     "output_type": "execute_result"
    }
   ],
   "source": [
    "class person:\n",
    "    attr1 = 'Male'\n",
    "    attr2 = 'Dark'\n",
    "ob = person()\n",
    "ob.attr1"
   ]
  },
  {
   "cell_type": "code",
   "execution_count": 5,
   "id": "15065807",
   "metadata": {},
   "outputs": [
    {
     "data": {
      "text/plain": [
       "'Dark'"
      ]
     },
     "execution_count": 5,
     "metadata": {},
     "output_type": "execute_result"
    }
   ],
   "source": [
    "ebuka = person()\n",
    "ebuka.attr2"
   ]
  },
  {
   "cell_type": "code",
   "execution_count": 7,
   "id": "a2fc831d",
   "metadata": {},
   "outputs": [
    {
     "name": "stdout",
     "output_type": "stream",
     "text": [
      "my name is ada and am a Female and am Dark in complexion\n"
     ]
    }
   ],
   "source": [
    "class person:\n",
    "    gender = 'Female'\n",
    "    color = 'Dark'\n",
    "    def details(self):\n",
    "        print(f'my name is ada and am a {self.gender} and am {self.color} in complexion')\n",
    "ob = person()\n",
    "ob.details()"
   ]
  },
  {
   "cell_type": "code",
   "execution_count": 9,
   "id": "6507fc2e",
   "metadata": {},
   "outputs": [],
   "source": [
    "class banksystem:\n",
    "    def __init__(self):\n",
    "        self.balance = 0\n",
    "    def deposit(self):\n",
    "        amount = float(input('Enter deposit amount:'))\n",
    "        self.balance += amount\n",
    "        print(f'Amount deposited is {amount}')\n",
    "    def withdraw(self):\n",
    "        amount = float(input('Enter withdrawal  amount:'))\n",
    "        if self.balance >= amount:\n",
    "            self.balance -= amount\n",
    "            print('Withdraw successful')\n",
    "        else:\n",
    "            print('insufficent funds')\n",
    "    def transfer(self):\n",
    "        amount = float(input('Enter transfer amount:'))\n",
    "        toaccount = input('Provide Account Destination')\n",
    "        if self.balance >= amount:\n",
    "            self.balance -= amount\n",
    "            print('Transfer successful')\n",
    "        else:\n",
    "            print('insufficent funds')\n",
    "customer1 = banksystem()"
   ]
  },
  {
   "cell_type": "code",
   "execution_count": 10,
   "id": "201a9753",
   "metadata": {},
   "outputs": [
    {
     "name": "stdout",
     "output_type": "stream",
     "text": [
      "Enter deposit amount:4000\n",
      "Amount deposited is 4000.0\n"
     ]
    }
   ],
   "source": [
    "customer1.deposit()"
   ]
  },
  {
   "cell_type": "code",
   "execution_count": 12,
   "id": "7a2496de",
   "metadata": {},
   "outputs": [
    {
     "name": "stdout",
     "output_type": "stream",
     "text": [
      "Enter withdrawal  amount:2000\n",
      "Withdraw successful\n"
     ]
    }
   ],
   "source": [
    "customer1.withdraw()"
   ]
  },
  {
   "cell_type": "code",
   "execution_count": 14,
   "id": "bb54ded5",
   "metadata": {},
   "outputs": [
    {
     "name": "stdout",
     "output_type": "stream",
     "text": [
      "Enter transfer amount:4000\n",
      "Provide Account Destination2121212121\n",
      "Transfer successful\n"
     ]
    }
   ],
   "source": [
    "customer1.transfer()"
   ]
  },
  {
   "cell_type": "code",
   "execution_count": 15,
   "id": "d955dfdf",
   "metadata": {},
   "outputs": [
    {
     "data": {
      "text/plain": [
       "19000.0"
      ]
     },
     "execution_count": 15,
     "metadata": {},
     "output_type": "execute_result"
    }
   ],
   "source": [
    "customer1.balance"
   ]
  },
  {
   "cell_type": "code",
   "execution_count": 18,
   "id": "d931e20d",
   "metadata": {},
   "outputs": [
    {
     "name": "stdout",
     "output_type": "stream",
     "text": [
      "Enter Y as yes to perform transaction and N to exitY\n",
      "enter your mode of transaction\n",
      "deposit\n",
      "withdraw\n",
      "transfer\n",
      "displaybalance\n",
      "deposit\n",
      "Enter deposit amount:35000\n",
      "Amount deposited is 35000.0\n",
      "Enter Y as yes to perform transaction and N to exitY\n",
      "enter your mode of transaction\n",
      "deposit\n",
      "withdraw\n",
      "transfer\n",
      "displaybalance\n",
      "displaybalance\n",
      "Avaliable Balance is 35000.0\n",
      "Enter Y as yes to perform transaction and N to exitY\n",
      "enter your mode of transaction\n",
      "deposit\n",
      "withdraw\n",
      "transfer\n",
      "displaybalance\n",
      "transfer\n",
      "Enter transfer amount:5600\n",
      "Provide Account Destination21252478\n",
      "Transfer successful\n",
      "Enter Y as yes to perform transaction and N to exitY\n",
      "enter your mode of transaction\n",
      "deposit\n",
      "withdraw\n",
      "transfer\n",
      "displaybalance\n",
      "displaybalance\n",
      "Avaliable Balance is 29400.0\n",
      "Enter Y as yes to perform transaction and N to exitN\n"
     ]
    }
   ],
   "source": [
    "class banksystem:\n",
    "    def __init__(self):\n",
    "        self.balance = 0\n",
    "    def deposit(self):\n",
    "        amount = float(input('Enter deposit amount:'))\n",
    "        self.balance += amount\n",
    "        print(f'Amount deposited is {amount}')\n",
    "    def withdraw(self):\n",
    "        amount = float(input('Enter withdrawal  amount:'))\n",
    "        if self.balance >= amount:\n",
    "            self.balance -= amount\n",
    "            print('Withdraw successful')\n",
    "        else:\n",
    "            print('insufficent funds')\n",
    "    def transfer(self):\n",
    "        amount = float(input('Enter transfer amount:'))\n",
    "        toaccount = input('Provide Account Destination')\n",
    "        if self.balance >= amount:\n",
    "            self.balance -= amount\n",
    "            print('Transfer successful')\n",
    "        else:\n",
    "            print('insufficent funds')\n",
    "    def displaybalance(self):\n",
    "        print(f'Avaliable Balance is {self.balance}')\n",
    "customers = banksystem()\n",
    "x= input('Enter Y as yes to perform transaction and N to exit')\n",
    "counter = 0\n",
    "while x == 'Y':\n",
    "    action = input('''enter your mode of transaction\n",
    "deposit\n",
    "withdraw\n",
    "transfer\n",
    "displaybalance\n",
    "''')\n",
    "    if action == 'deposit':\n",
    "        customers.deposit()\n",
    "    elif action == 'withdraw':\n",
    "        customers.withdraw()\n",
    "    elif action == 'transfer':\n",
    "        customers.transfer()\n",
    "    elif action == 'displaybalance':\n",
    "        customers.displaybalance()   \n",
    "    x= input('Enter Y as yes to perform transaction and N to exit')\n",
    "    counter = counter + 1"
   ]
  },
  {
   "cell_type": "code",
   "execution_count": 19,
   "id": "39b0e317",
   "metadata": {},
   "outputs": [
    {
     "name": "stdout",
     "output_type": "stream",
     "text": [
      "Audi A6 has started\n"
     ]
    }
   ],
   "source": [
    "class carsimulation:\n",
    "    def __init__(self,brand,model,color,year,speed):\n",
    "        self.brand = brand\n",
    "        self.model = model\n",
    "        self.color = color\n",
    "        self.year = year\n",
    "        self.speed = speed\n",
    "    def start(self):\n",
    "        print(f'{self.brand} {self.model} has started')\n",
    "    def stop(self):\n",
    "        print(f'{self.brand} {self.model} has started')\n",
    "ob = carsimulation('Audi','A6','Black',2021,350)\n",
    "ob.start()"
   ]
  },
  {
   "cell_type": "code",
   "execution_count": 20,
   "id": "240d2170",
   "metadata": {},
   "outputs": [
    {
     "name": "stdout",
     "output_type": "stream",
     "text": [
      "Toyota Magic has started\n"
     ]
    }
   ],
   "source": [
    "class newmodel(carsimulation):\n",
    "    def accelaration(self):\n",
    "        choice = int(input('Enter nitro option:'))\n",
    "        if choice  == 1:\n",
    "            print('Nitro Engaged')\n",
    "        else:\n",
    "            print('Nitro disengaged')\n",
    "ob2 = newmodel('Toyota','Magic','Green',2024,600)\n",
    "ob2.start()"
   ]
  },
  {
   "cell_type": "code",
   "execution_count": 21,
   "id": "e1c1e4b0",
   "metadata": {},
   "outputs": [
    {
     "ename": "AttributeError",
     "evalue": "'carsimulation' object has no attribute 'accelaration'",
     "output_type": "error",
     "traceback": [
      "\u001b[1;31m---------------------------------------------------------------------------\u001b[0m",
      "\u001b[1;31mAttributeError\u001b[0m                            Traceback (most recent call last)",
      "Input \u001b[1;32mIn [21]\u001b[0m, in \u001b[0;36m<cell line: 1>\u001b[1;34m()\u001b[0m\n\u001b[1;32m----> 1\u001b[0m \u001b[43mob\u001b[49m\u001b[38;5;241;43m.\u001b[39;49m\u001b[43maccelaration\u001b[49m()\n",
      "\u001b[1;31mAttributeError\u001b[0m: 'carsimulation' object has no attribute 'accelaration'"
     ]
    }
   ],
   "source": [
    "ob.accelaration()"
   ]
  },
  {
   "cell_type": "code",
   "execution_count": null,
   "id": "3dd08cd3",
   "metadata": {},
   "outputs": [],
   "source": []
  }
 ],
 "metadata": {
  "kernelspec": {
   "display_name": "Python 3 (ipykernel)",
   "language": "python",
   "name": "python3"
  },
  "language_info": {
   "codemirror_mode": {
    "name": "ipython",
    "version": 3
   },
   "file_extension": ".py",
   "mimetype": "text/x-python",
   "name": "python",
   "nbconvert_exporter": "python",
   "pygments_lexer": "ipython3",
   "version": "3.9.12"
  }
 },
 "nbformat": 4,
 "nbformat_minor": 5
}
