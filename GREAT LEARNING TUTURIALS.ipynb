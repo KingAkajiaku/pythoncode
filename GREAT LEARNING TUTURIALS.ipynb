{
 "cells": [
  {
   "cell_type": "markdown",
   "id": "c6a7c584",
   "metadata": {},
   "source": [
    "# GREAT LEARNING TUTURIALS"
   ]
  },
  {
   "cell_type": "markdown",
   "id": "fcffa24c",
   "metadata": {},
   "source": [
    "# VARIABLES IN PROGRAMMING.\n",
    "\n",
    "#When it comes to computer your data is nothing but your binary code which is zeros and ones.\n",
    "#Data/values can be stored in a temporary storage space called VARIABLES.\n",
    "a = 10 \n",
    "#a in the equation is the variable while 10 is the value or data stored in a.\n",
    "#MUTIPLY OPEERATION ON A VARIABLE\n",
    "b = 20\n",
    "c = 30\n",
    "b+c\n",
    "#b+c is a mutiply operation because we are concatinating two variables with addition operator +\n"
   ]
  },
  {
   "cell_type": "markdown",
   "id": "fa79108b",
   "metadata": {},
   "source": [
    "# DECISION MAKING STATEMENTS.\n",
    "\n",
    "in decision making statement in python, we have special key letters in making those deciosns.namely\n",
    "we have \"if\" \"else\" \"elif\".\n",
    "\n",
    "IF STATEMENT.\n",
    "for example:if its raining stay inside, else go outside and play football.\n",
    "other example:if your school test is >70: take ice cream, else go and study more.\n"
   ]
  },
  {
   "cell_type": "code",
   "execution_count": 1,
   "id": "371b9d86",
   "metadata": {},
   "outputs": [
    {
     "name": "stdout",
     "output_type": "stream",
     "text": [
      "b is the greatest number\n"
     ]
    }
   ],
   "source": [
    "a = 10\n",
    "b = 20\n",
    "if b>a:\n",
    "    print('b is the greatest number')"
   ]
  },
  {
   "cell_type": "code",
   "execution_count": 3,
   "id": "5c04357c",
   "metadata": {},
   "outputs": [
    {
     "name": "stdout",
     "output_type": "stream",
     "text": [
      "6 is not in the tuple list\n"
     ]
    }
   ],
   "source": [
    "tup1 = (1,2,3,4,5)\n",
    "if 6 in tup1:\n",
    "    print('6 is in the tuple list')\n",
    "else:\n",
    "    print('6 is not in the tuple list')"
   ]
  },
  {
   "cell_type": "code",
   "execution_count": 4,
   "id": "7b0f733c",
   "metadata": {},
   "outputs": [
    {
     "name": "stdout",
     "output_type": "stream",
     "text": [
      "[2, 103, 4, 5]\n"
     ]
    }
   ],
   "source": [
    "list1 = [2,3,4,5]\n",
    "if list1[1]==3:\n",
    "    list1[1] =list1[1]+100\n",
    "    print(list1)"
   ]
  },
  {
   "cell_type": "code",
   "execution_count": 5,
   "id": "c57acb6f",
   "metadata": {},
   "outputs": [
    {
     "name": "stdout",
     "output_type": "stream",
     "text": [
      "{'apple': 120, 'mango': 30}\n"
     ]
    }
   ],
   "source": [
    "dict1 = {'apple':20,'mango':30}\n",
    "if dict1['apple']==20:\n",
    "    dict1['apple'] = dict1['apple']+100\n",
    "    print(dict1)"
   ]
  },
  {
   "cell_type": "code",
   "execution_count": 2,
   "id": "a3ac13bd",
   "metadata": {},
   "outputs": [
    {
     "name": "stdout",
     "output_type": "stream",
     "text": [
      "c is the greatest number\n"
     ]
    }
   ],
   "source": [
    "#ELIF STATEMENT\n",
    "a = 10\n",
    "b = 20\n",
    "c = 30\n",
    "if (a>b & a>c):\n",
    "    print('a is the greatest number')\n",
    "elif (b>a & b>c):\n",
    "    print('b is the greatest number')\n",
    "else:\n",
    "    print('c is the greatest number')\n"
   ]
  },
  {
   "cell_type": "markdown",
   "id": "80944cbb",
   "metadata": {},
   "source": [
    "# LOOPING STATEMENT.\n",
    "\n",
    "#loop statements are used to repeat a task mutiple times\n",
    "#for example:you are asked to keep filling a bucket of water, while it is not full. \n",
    "#you keep repeating the task till the bucket is full.\n",
    "#another example is keep playing a particular song till you close the app.\n",
    "#that means you are playing the song on loop.\n",
    "#while loop pseudo code. while(TRUE){\n",
    "#keep executing the statement}\n"
   ]
  },
  {
   "cell_type": "markdown",
   "id": "f10491b7",
   "metadata": {},
   "source": [
    "# FUNCTIONS IN PROGRAMMING.\n",
    "\n",
    "#Function is a block of code which perform a specific task\n",
    "\n"
   ]
  },
  {
   "cell_type": "markdown",
   "id": "18de643e",
   "metadata": {},
   "source": [
    "# OBJECT ORIENTED PROGRAMMING.\n",
    "\n",
    "#CLASS is a template/blueprint for real world entities.\n",
    "#OBJECTS are specific instance of class.\n",
    "#for example: a mobile phone is a CLASS, and the specific of the phone is the OBJECT\n",
    "like apple, samsung and motorola."
   ]
  },
  {
   "cell_type": "markdown",
   "id": "8b18d00d",
   "metadata": {},
   "source": [
    "# ALGORITHMIC.\n",
    "\n",
    "#What is algorithm? it is a step by step approach to solve a problem. this is known as algorithm.\n",
    "#input ----- step to be followed ----- output."
   ]
  },
  {
   "cell_type": "markdown",
   "id": "51601f8b",
   "metadata": {},
   "source": [
    "# INTRO TO PYTHON.\n",
    "\n",
    "#what is python? python is simply a free and open source programming language.\n",
    "#python is also cross platform compatable\n",
    "#python also have a large standard library."
   ]
  },
  {
   "cell_type": "markdown",
   "id": "969def0a",
   "metadata": {},
   "source": [
    "# OPERATORS IN PYTHON.\n",
    "\n",
    "#We have different type of operators, namely\n",
    "#Arithemic operators, Relational operators, Logical Operators.\n",
    "\n",
    "#example of Arithemic operators are, +,-,*,/. \n",
    "#for example a = 1 b = 2, a+b = 3.(arithemic operation).\n",
    "\n",
    "#example of relational operators are, >,<,==,!=\n",
    "\n",
    "#example of Logical operators are, &,|\n",
    "which are also, \"and\",\"or\",\"not\"\n",
    "\n",
    "\n"
   ]
  },
  {
   "cell_type": "markdown",
   "id": "ae0d9dfd",
   "metadata": {},
   "source": [
    "# TOKEN IN PYTHON.\n",
    "\n",
    "#Python tokens are smallest meaningful component in program. namely,\n",
    "#keywords, identifiers, literals, operators.\n",
    "#keywords are special reserved words. you cant use any of the python keywords as a variable.\n",
    "\n",
    "#Identifiers are names use for variables,function and object\n",
    "#rules of an identifiers are, no special character expect _(underscore)\n",
    "#identifiers are case sensitive, and first letter can not be a digit.\n",
    "\n",
    "#literals are constant in python.\n",
    "#a ='sparta', the string is called string literals\n",
    "#we have the numberic literals,string lierals and the boolean literals.\n"
   ]
  },
  {
   "cell_type": "markdown",
   "id": "14daa9a5",
   "metadata": {},
   "source": [
    "# PYTHON STRING.\n",
    "\n",
    "#strings are sequence of characters enclosed within a single quotes('') ,double quotes(\"\")\n",
    "#or triple quotes (''' ''')"
   ]
  },
  {
   "cell_type": "code",
   "execution_count": 5,
   "id": "2525efcc",
   "metadata": {},
   "outputs": [
    {
     "data": {
      "text/plain": [
       "'a'"
      ]
     },
     "execution_count": 5,
     "metadata": {},
     "output_type": "execute_result"
    }
   ],
   "source": [
    "my_string = 'am a warrior'\n",
    "my_string[0]"
   ]
  },
  {
   "cell_type": "code",
   "execution_count": 8,
   "id": "6240a87e",
   "metadata": {},
   "outputs": [
    {
     "data": {
      "text/plain": [
       "'warrior'"
      ]
     },
     "execution_count": 8,
     "metadata": {},
     "output_type": "execute_result"
    }
   ],
   "source": [
    "my_string[5:13]"
   ]
  },
  {
   "cell_type": "code",
   "execution_count": 13,
   "id": "63b13a63",
   "metadata": {},
   "outputs": [
    {
     "data": {
      "text/plain": [
       "['am a warrior']"
      ]
     },
     "execution_count": 13,
     "metadata": {},
     "output_type": "execute_result"
    }
   ],
   "source": [
    "len(my_string) #finding length of a string\n",
    "my_string.lower() #converting string to lower case\n",
    "my_string.upper() #converting string to lower case\n",
    "my_string.replace('i','u') #replacing a substring\n",
    "my_string.find('am') #finding the index of a substring\n",
    "my_string.split(',') #spliting a string\n"
   ]
  },
  {
   "cell_type": "markdown",
   "id": "cfc2c813",
   "metadata": {},
   "source": [
    "# PYTHON TUPLES.\n",
    "\n",
    "we have four time of data structure in python, namely\n",
    "1, tuple, 2, list, 3, dictionary, 4, set\n",
    "TUPLE.\n",
    "Tuple is an ordered collection of element enclosed within ()\n",
    "tuples are immutable or unchangable.\n",
    "once we create a value inside a tuple() u can't change the value\n",
    "TUPLE FUNCTION\n",
    "Minimum value equation is min(), example: tup1 = (1,2,3,4)\n",
    "print min(tup1)\n",
    "maximum value equation is max(), example: tup2 = (1,2,3,4,5)\n",
    "print max(tup2)"
   ]
  },
  {
   "cell_type": "markdown",
   "id": "e30d320c",
   "metadata": {},
   "source": [
    "# PYTHON LIST.\n",
    "\n",
    "List is an ordered collection of element enclosed within []\n",
    "list are mutable or changable.\n",
    "champion = [1,2,3,4,4,]\n",
    "champion[0]=7  #changing the value at 0th index.\n",
    "champion.append  # adding a new value to the list.\n",
    "champion.pop()  # delecting the last value from the list.\n",
    "champion.reverse()  # reverse function is used to reverse the all value in the list\n",
    "starting from last value to the first value.\n",
    "champion.sort()  # sort function is used to sort the value in the list with alphabetic order.\n",
    "\n"
   ]
  },
  {
   "cell_type": "markdown",
   "id": "e1544c33",
   "metadata": {},
   "source": [
    "# PYTHON DICTIONARY.\n",
    "\n",
    "Dictionary is an unordered collection of key-value pairs enclosed with {}\n",
    "Dictionary is mutable\n",
    "example: fruit = {'apple':10, 'orange':20}\n",
    "fruit.keys()  #this function is used to extract key values in a dictionary\n",
    "fruit.values()  #this function is used to extract values alone in a dictionary.\n",
    "fruit.items()  #this function is used to bring out the key and the value of a dictionary.\n",
    "fruit.update.(fruit2)  #this function is used to add the value in one variable to the other."
   ]
  },
  {
   "cell_type": "markdown",
   "id": "77acdded",
   "metadata": {},
   "source": [
    "# PYTHON SET.\n",
    "\n",
    "Set is an unordered and unindexed collection of elements enclosed with {}\n",
    "duplicate are not allowed in set\n",
    "victor = {1,jam,4,5}\n",
    "victor.add('hello')  #this function is used to add a new value in a set.\n",
    "victor.update([1,2,3,4])  #this function is used in updating mutiply values in a set.\n",
    "victor.remove(5)  #this function is used in removing a value in a set.\n",
    "victor1.union(victor2) # this is a function used to concatinate two variable together in a set.\n",
    "victor1.intersection(victor2) #this is a function used to get the values that are common more in the two variable\n",
    "\n",
    "\n"
   ]
  },
  {
   "cell_type": "markdown",
   "id": "89ebf71d",
   "metadata": {},
   "source": [
    "# LOOPING STATEMENT IN PYTHON.\n",
    "\n",
    "Looping statement are used to repeat a task mutiple times.\n",
    "\n"
   ]
  }
 ],
 "metadata": {
  "kernelspec": {
   "display_name": "Python 3 (ipykernel)",
   "language": "python",
   "name": "python3"
  },
  "language_info": {
   "codemirror_mode": {
    "name": "ipython",
    "version": 3
   },
   "file_extension": ".py",
   "mimetype": "text/x-python",
   "name": "python",
   "nbconvert_exporter": "python",
   "pygments_lexer": "ipython3",
   "version": "3.9.12"
  }
 },
 "nbformat": 4,
 "nbformat_minor": 5
}
