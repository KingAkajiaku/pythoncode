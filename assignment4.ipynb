{
 "cells": [
  {
   "cell_type": "code",
   "execution_count": 21,
   "id": "9eba6df9",
   "metadata": {},
   "outputs": [
    {
     "name": "stdout",
     "output_type": "stream",
     "text": [
      "65\n",
      "1.78\n"
     ]
    }
   ],
   "source": [
    "class person:\n",
    "    def __init__(self,weight,height):\n",
    "        self.weight = weight\n",
    "        self.height = height\n",
    "    def getweight(self):\n",
    "        weight = float(input('Please enter your weight'))\n",
    "    def getheight(self):\n",
    "        height = float (input('Please provide your height'))\n",
    "    def getbmi(self):\n",
    "        bmi = (self.weight)/self.height**2\n",
    "        if bmi <= 18.5:\n",
    "            print ('eat more food')\n",
    "        elif bmi >=18.5 and bmi<25:\n",
    "            print('looks good')\n",
    "        elif bmi >25 and bmi <30:\n",
    "            print('obbess')\n",
    "ob = person(float(input()),float(input()))\n",
    "        "
   ]
  },
  {
   "cell_type": "code",
   "execution_count": 22,
   "id": "4b3caf53",
   "metadata": {},
   "outputs": [
    {
     "name": "stdout",
     "output_type": "stream",
     "text": [
      "looks good\n"
     ]
    }
   ],
   "source": [
    "ob.getbmi()"
   ]
  },
  {
   "cell_type": "code",
   "execution_count": 6,
   "id": "0b686cba",
   "metadata": {},
   "outputs": [
    {
     "name": "stdout",
     "output_type": "stream",
     "text": [
      "45\n",
      "33\n",
      "67\n",
      "89\n",
      "99\n",
      "44\n",
      "44\n",
      "87\n"
     ]
    }
   ],
   "source": [
    "class students:\n",
    "    def __init__(self,student1,student2,student3,student4,student5,student6,student7,student8):\n",
    "        self.student1 = student1\n",
    "        self.student2 = student2\n",
    "        self.student3 = student3\n",
    "        self.student4 = student4\n",
    "        self.student5 = student5\n",
    "        self.student6 = student6\n",
    "        self.student7 = student7\n",
    "        self.student8 = student8\n",
    "    def average(self):\n",
    "        print ('Please enter marks obtained in 8 subjects')\n",
    "        student1 = int(input())\n",
    "        student2 = int(input())\n",
    "        student3 = int(input())\n",
    "        student4 = int(input())\n",
    "        student5 = int(input())\n",
    "        student6 = int(input())\n",
    "        student7 = int(input())\n",
    "        student8 = int(input())\n",
    "        total = self.student1 + self.student2 + self.student3 + self.student4 + self.student5 + self.student6 + self.student7 + self.student8\n",
    "        avg =total/8\n",
    "        if avg>=91 and avg < 100:\n",
    "            print('your grade is A1')\n",
    "        elif avg >=81 and avg <91:\n",
    "            print('your grade is A2')\n",
    "        elif avg >=71 and avg <81:\n",
    "            print('your grade is B1')\n",
    "        elif avg>=61 and avg <71:\n",
    "            print('your grade is B2')\n",
    "        elif avg>=51 and avg <61:\n",
    "            print('your grade is C1')\n",
    "        elif avg>=41 and avg <51:\n",
    "            print('your grade is C2')\n",
    "        elif avg>=31 and avg <41:\n",
    "            print('your grade is D')\n",
    "        elif avg>=21 and avg <31:\n",
    "            print('your grade is E1')\n",
    "        elif avg>=0 and avg < 21:\n",
    "            print('your grade is F')\n",
    "        else:\n",
    "            print('invalid input')\n",
    "ob = students(int(input()),int(input()),int(input()),int(input()),int(input()),int(input()),int(input()),int(input()))\n",
    "                \n",
    "        "
   ]
  },
  {
   "cell_type": "code",
   "execution_count": 7,
   "id": "814ecdbc",
   "metadata": {},
   "outputs": [
    {
     "data": {
      "text/plain": [
       "<bound method students.average of <__main__.students object at 0x0000017977E2ED30>>"
      ]
     },
     "execution_count": 7,
     "metadata": {},
     "output_type": "execute_result"
    }
   ],
   "source": [
    "ob.average"
   ]
  },
  {
   "cell_type": "code",
   "execution_count": null,
   "id": "a293958a",
   "metadata": {},
   "outputs": [],
   "source": []
  }
 ],
 "metadata": {
  "kernelspec": {
   "display_name": "Python 3 (ipykernel)",
   "language": "python",
   "name": "python3"
  },
  "language_info": {
   "codemirror_mode": {
    "name": "ipython",
    "version": 3
   },
   "file_extension": ".py",
   "mimetype": "text/x-python",
   "name": "python",
   "nbconvert_exporter": "python",
   "pygments_lexer": "ipython3",
   "version": "3.9.12"
  }
 },
 "nbformat": 4,
 "nbformat_minor": 5
}
