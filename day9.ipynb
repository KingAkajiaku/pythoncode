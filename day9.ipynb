{
 "cells": [
  {
   "cell_type": "markdown",
   "id": "a8ddf4ff",
   "metadata": {},
   "source": [
    "### A SMART PHONE DEALER IN THE LOCALITY IS VERY WORRIED ABOUT HIS RECORDS AS HIS ASSISTANT IS NOT SO SERIOUS ABOUT THE OVERALL TURNOVER. HE CAN'T CHANGE IS ASSISTANT BECAUSE HE IS ONE OF HIS FAMILY MEMBER AND THEREFORE TURNS OUT TO BE ISSUSE FOR THE DEALER. USING THE CLASS AND OBJECT WRITE A PYTHON CODE TO MANAGE THE DEALERS STORE HAVING THE FOLLOWING ATTRIBUTE [PHONE NAME, MODEL, QUANTITY AND PRICE] AND THE FOLLOWING METHOD GET PRICE, GETMODEL AND USE WHILE LOOP TO MAKE A RUNNING SYSTEM"
   ]
  },
  {
   "cell_type": "code",
   "execution_count": 5,
   "id": "150852f7",
   "metadata": {},
   "outputs": [
    {
     "name": "stdout",
     "output_type": "stream",
     "text": [
      "Enter y as yes and n as noy\n",
      "Enter phone nameSpark 8t\n",
      "Enter Phone modelhfhffgf\n",
      "Enter phone quantity25\n",
      "Enter phone price110000\n",
      "Enter y as yes and n as noy\n",
      "Enter phone nameVivo X80\n",
      "Enter Phone modelhfhfdhj\n",
      "Enter phone quantity54\n",
      "Enter phone price1200000\n",
      "Enter y as yes and n as non\n",
      "_____THE LIST OF AVALIABLE PHONES______\n",
      "1 .  Spark 8t::hfhffgf::110000::25\n",
      "2 .  Vivo X80::hfhfdhj::1200000::54\n"
     ]
    }
   ],
   "source": [
    "class phonestore:\n",
    "    def __init__(self,phonename,model,quantity,price):\n",
    "        self.phonename = phonename\n",
    "        self.model = model\n",
    "        self.quantity = quantity\n",
    "        self.price = price\n",
    "    def getprice(self):\n",
    "        return self.price\n",
    "    def getmodel(self):\n",
    "        return self.model\n",
    "    def getquantity(self):\n",
    "        return self.quantity\n",
    "    def __str__(self):\n",
    "        return self.phonename + '::'+ str(self.getmodel()) + '::' + str(self.getprice()) + '::'+ str(self.getquantity())\n",
    "def prices(rec,phonename,model,quantity,price):\n",
    "    rec.append(phonestore(phonename,model,quantity,price))\n",
    "    return rec\n",
    "records = []\n",
    "x = input('Enter y as yes and n as no')\n",
    "while x =='y':\n",
    "    phonename = input('Enter phone name')\n",
    "    model = input('Enter Phone model')\n",
    "    quantity = input('Enter phone quantity')\n",
    "    price = input('Enter phone price')\n",
    "    records = prices(records,phonename,model,quantity,price)\n",
    "    x = input('Enter y as yes and n as no')\n",
    "    \n",
    "n = 1\n",
    "print('_____THE LIST OF AVALIABLE PHONES______')\n",
    "for items in records:\n",
    "    print(n,'. ',items)\n",
    "    n = n+1"
   ]
  },
  {
   "cell_type": "code",
   "execution_count": 7,
   "id": "be514c62",
   "metadata": {},
   "outputs": [
    {
     "name": "stdout",
     "output_type": "stream",
     "text": [
      "Enter first number:85\n",
      "Enter second number:p\n",
      "You have encounted one or more errors\n"
     ]
    }
   ],
   "source": [
    "# ERROR HANDLING\n",
    "#try\n",
    "#excpet\n",
    "#else\n",
    "#finally\n",
    "\n",
    "try:\n",
    "    num1 = int(input('Enter first number:'))\n",
    "    num2 = int(input('Enter second number:'))\n",
    "    option = input('choose an operation [+,-,/,*]')\n",
    "    if option == '+':\n",
    "        print(f'{num1} + {num2} = {num1 + num2}')\n",
    "    elif option == '-':\n",
    "        print(f'{num1} - {num2} = {num1 - num2}')\n",
    "    elif option == '/':\n",
    "        print(f'{num1} / {num2} = {num1 / num2}')\n",
    "    elif option == '*':\n",
    "        print(f'{num1} * {num2} = {num1 * num2}')\n",
    "except:\n",
    "    print('You have encounted one or more errors')"
   ]
  },
  {
   "cell_type": "code",
   "execution_count": 12,
   "id": "6381b62a",
   "metadata": {},
   "outputs": [
    {
     "name": "stdout",
     "output_type": "stream",
     "text": [
      "Enter first number:23\n",
      "Enter second number:3\n",
      "choose an operation [+,-,/,*]*\n",
      "23 * 3 = 69\n",
      "529\n",
      "End of program!!!!!!!!!!!!!\n"
     ]
    }
   ],
   "source": [
    "try:\n",
    "    num1 = int(input('Enter first number:'))\n",
    "    num2 = int(input('Enter second number:'))\n",
    "    option = input('choose an operation [+,-,/,*]')\n",
    "    if option == '+':\n",
    "        print(f'{num1} + {num2} = {num1 + num2}')\n",
    "    elif option == '-':\n",
    "        print(f'{num1} - {num2} = {num1 - num2}')\n",
    "    elif option == '/':\n",
    "        print(f'{num1} / {num2} = {num1 / num2}')\n",
    "    elif option == '*':\n",
    "        print(f'{num1} * {num2} = {num1 * num2}')\n",
    "except TypeError:\n",
    "    print('wrong operation on int datatype')\n",
    "except ValueError:\n",
    "    print('Wrong Value, Int value is expected')\n",
    "except ZeroDivisionError:\n",
    "    print('Opps sorry you cannot divide a number by Zero')\n",
    "except:\n",
    "    print('You have encounterted one or more errors')\n",
    "else:\n",
    "    print(num1 ** 2)\n",
    "finally:\n",
    "    print('End of program!!!!!!!!!!!!!')"
   ]
  },
  {
   "cell_type": "code",
   "execution_count": null,
   "id": "a92a27ba",
   "metadata": {},
   "outputs": [],
   "source": []
  }
 ],
 "metadata": {
  "kernelspec": {
   "display_name": "Python 3 (ipykernel)",
   "language": "python",
   "name": "python3"
  },
  "language_info": {
   "codemirror_mode": {
    "name": "ipython",
    "version": 3
   },
   "file_extension": ".py",
   "mimetype": "text/x-python",
   "name": "python",
   "nbconvert_exporter": "python",
   "pygments_lexer": "ipython3",
   "version": "3.9.12"
  }
 },
 "nbformat": 4,
 "nbformat_minor": 5
}
