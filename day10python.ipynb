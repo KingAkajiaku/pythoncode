{
 "cells": [
  {
   "cell_type": "code",
   "execution_count": 4,
   "id": "8c0f5833",
   "metadata": {},
   "outputs": [
    {
     "name": "stdout",
     "output_type": "stream",
     "text": [
      "Please put in your number:tyetyuiu\n",
      "please put in your name:hduhkl\n",
      "please enter your number:huuh\n",
      "enter your item name:hiijm\n",
      "enter the condition:FRAGILE\n",
      "enter the quantity:8\n",
      "enter the price of the item:90000\n",
      "enter the destination:JOS\n",
      "enter the weight:15\n",
      "enter order number:HJUTG\n",
      "_______SHIPMENT DETAILS_______\n",
      "ORDER NUMBER: tyetyuiu\n",
      "CUSTOMER NAME: hduhkl\n",
      "PHONE NUMBER: huuh\n",
      "ITEM NAME: hiijm\n",
      "ITEM CONDITION: FRAGILE\n",
      "ITEM QUANTITY: FRAGILE\n",
      "ORIGNAL PRICE: 90000.0\n",
      "TOTAL PRICE: 720000.0\n",
      "ITEM WEIGHT: 15.0\n",
      "DESTINATION: JOS\n",
      "\n",
      "the total shipping price is 1500.0\n"
     ]
    }
   ],
   "source": [
    "order_number = str(input('Please put in your number:'))\n",
    "customer_name = str(input('please put in your name:'))\n",
    "customer_number = str(input('please enter your number:'))\n",
    "item_name = str(input('enter your item name:'))\n",
    "item_condition = str(input('enter the condition:'))\n",
    "item_quantity = float(input('enter the quantity:'))\n",
    "price_per_item = float(input('enter the price of the item:'))\n",
    "destination = str(input('enter the destination:'))\n",
    "weight = float(input('enter the weight:'))\n",
    "ordernumber = input('enter order number:')\n",
    "totalitemprice = item_quantity * price_per_item\n",
    "print(f'''_______SHIPMENT DETAILS_______\n",
    "ORDER NUMBER: {order_number}\n",
    "CUSTOMER NAME: {customer_name}\n",
    "PHONE NUMBER: {customer_number}\n",
    "ITEM NAME: {item_name}\n",
    "ITEM CONDITION: {item_condition}\n",
    "ITEM QUANTITY: {item_condition}\n",
    "ORIGNAL PRICE: {price_per_item}\n",
    "TOTAL PRICE: {totalitemprice}\n",
    "ITEM WEIGHT: {weight}\n",
    "DESTINATION: {destination}\n",
    "''')\n",
    "if item_condition == 'FRAGILE' and weight <=23:\n",
    "    print (f'the total shipping price is {weight * 100}')\n",
    "elif item_condition == 'FRAGILE' and weight >23:\n",
    "    print(f'The total shipping price is {weight * 250}')\n",
    "elif item_condition == 'NON FRAGILE' and weight <= 23:\n",
    "    print(f' the total shipping price is {weight * 75}')\n",
    "elif item_condition == 'NON FRAGILE' and weight > 23:\n",
    "          print(f'The total shipping price is {weight * 150}')"
   ]
  },
  {
   "cell_type": "code",
   "execution_count": 7,
   "id": "40be2561",
   "metadata": {},
   "outputs": [
    {
     "name": "stdout",
     "output_type": "stream",
     "text": [
      "Enter student nameGF\n",
      "Enter math score98\n",
      "Enter English score76\n",
      "Enter Chemistry score56\n",
      "Enter Physics score70\n",
      "Enter Biology score67\n",
      "Enter Geography score88\n",
      "Enter Economics score78\n",
      "Enter Agric science score65\n",
      "Congratulations your average score is 62.5 and your grade is B\n"
     ]
    }
   ],
   "source": [
    "def gradesystem():\n",
    "    studentname = input ('Enter student name')\n",
    "    subject_score1 = float(input('Enter math score'))\n",
    "    subject_score2 = float(input('Enter English score'))\n",
    "    subject_score3 = float(input('Enter Chemistry score'))\n",
    "    subject_score4 = float(input('Enter Physics score'))\n",
    "    subject_score5 = float(input('Enter Biology score'))\n",
    "    subject_score6 = float(input('Enter Geography score'))\n",
    "    subject_score7 = float(input('Enter Economics score'))\n",
    "    subject_score8 = float(input('Enter Agric science score'))\n",
    "    averagescore = sum([subject_score2,subject_score3,subject_score4,subject_score5,subject_score6,subject_score7,subject_score8])/8\n",
    "    if averagescore >= 70 and averagescore < 100:\n",
    "        print(f'Congratulations your average score is {averagescore} and your grade is A')\n",
    "    elif averagescore >= 60 and averagescore < 69.99:\n",
    "        print(f'Congratulations your average score is {averagescore} and your grade is B')\n",
    "    elif averagescore >=50 and averagescore < 59.99:\n",
    "        print(f'Congratulations your average score is {averagescore} and your grade is C')\n",
    "    elif averagescore >=40 and averagescore < 49.99:\n",
    "        print(f'Congratulations your average score is {averagescore} and your grade is D')\n",
    "    elif averagescore >=31 and averagescore < 39.99:\n",
    "        print(f'Congratulations your average score is {averagescore} and your grade is E')\n",
    "    else:\n",
    "        print(f'Congratulations your average score is {averagescore} and your grade is F')\n",
    "gradesystem()\n",
    "    "
   ]
  },
  {
   "cell_type": "code",
   "execution_count": null,
   "id": "cb69bda4",
   "metadata": {},
   "outputs": [],
   "source": []
  },
  {
   "cell_type": "code",
   "execution_count": null,
   "id": "ca81e786",
   "metadata": {},
   "outputs": [],
   "source": []
  }
 ],
 "metadata": {
  "kernelspec": {
   "display_name": "Python 3 (ipykernel)",
   "language": "python",
   "name": "python3"
  },
  "language_info": {
   "codemirror_mode": {
    "name": "ipython",
    "version": 3
   },
   "file_extension": ".py",
   "mimetype": "text/x-python",
   "name": "python",
   "nbconvert_exporter": "python",
   "pygments_lexer": "ipython3",
   "version": "3.9.12"
  }
 },
 "nbformat": 4,
 "nbformat_minor": 5
}
