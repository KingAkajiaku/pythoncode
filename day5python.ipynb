{
 "cells": [
  {
   "cell_type": "markdown",
   "id": "debf2076",
   "metadata": {},
   "source": [
    "# LOOP\n",
    "# FOR LOOP"
   ]
  },
  {
   "cell_type": "code",
   "execution_count": 1,
   "id": "c73c0f94",
   "metadata": {},
   "outputs": [
    {
     "name": "stdout",
     "output_type": "stream",
     "text": [
      "a\n",
      "p\n",
      "p\n",
      "l\n",
      "e\n"
     ]
    }
   ],
   "source": [
    "word = 'apple'\n",
    "for char in word:\n",
    "    print(char)"
   ]
  },
  {
   "cell_type": "code",
   "execution_count": 2,
   "id": "d44f91bd",
   "metadata": {},
   "outputs": [
    {
     "name": "stdout",
     "output_type": "stream",
     "text": [
      "aaappppppllleee"
     ]
    }
   ],
   "source": [
    "word = 'apple'\n",
    "for char in word:\n",
    "    print (char*3, end ='')"
   ]
  },
  {
   "cell_type": "code",
   "execution_count": 3,
   "id": "913a3814",
   "metadata": {},
   "outputs": [
    {
     "name": "stdout",
     "output_type": "stream",
     "text": [
      "aaa ppp ppp lll eee "
     ]
    }
   ],
   "source": [
    "word = 'apple'\n",
    "for char in word:\n",
    "    print (char*3, end =' ')"
   ]
  },
  {
   "cell_type": "code",
   "execution_count": 4,
   "id": "da376b99",
   "metadata": {},
   "outputs": [
    {
     "name": "stdout",
     "output_type": "stream",
     "text": [
      "aaa/ppp/ppp/lll/eee/"
     ]
    }
   ],
   "source": [
    "word = 'apple'\n",
    "for char in word:\n",
    "    print (char*3, end ='/')"
   ]
  },
  {
   "cell_type": "code",
   "execution_count": 6,
   "id": "309ec764",
   "metadata": {},
   "outputs": [
    {
     "name": "stdout",
     "output_type": "stream",
     "text": [
      "a/p/p/l/e/"
     ]
    }
   ],
   "source": [
    "word = 'apple'\n",
    "for char in word:\n",
    "    print (char, end ='/')"
   ]
  },
  {
   "cell_type": "code",
   "execution_count": 7,
   "id": "9b11fb1b",
   "metadata": {},
   "outputs": [
    {
     "name": "stdout",
     "output_type": "stream",
     "text": [
      "Hey Ade this is a kind reminder of our meeting slated to hold by 12 noon\n",
      "Hey Ken this is a kind reminder of our meeting slated to hold by 12 noon\n",
      "Hey Mary this is a kind reminder of our meeting slated to hold by 12 noon\n",
      "Hey Sam this is a kind reminder of our meeting slated to hold by 12 noon\n"
     ]
    }
   ],
   "source": [
    "friends = ['Ade','Ken','Mary','Sam']\n",
    "for name in friends:\n",
    "    print(f'Hey {name} this is a kind reminder of our meeting slated to hold by 12 noon')"
   ]
  },
  {
   "cell_type": "code",
   "execution_count": 10,
   "id": "621f41ca",
   "metadata": {},
   "outputs": [
    {
     "name": "stdout",
     "output_type": "stream",
     "text": [
      "Please Provide a nameSam\n",
      "Hey Sam this is a kind reminder of our meeting slated to hold by 12 noon\n"
     ]
    }
   ],
   "source": [
    "friends = ['Ade','Ken','Mary','Sam']\n",
    "NAME =input('Please Provide a name')\n",
    "for name in friends:\n",
    "    if NAME == name:\n",
    "        print(f'Hey {name} this is a kind reminder of our meeting slated to hold by 12 noon')"
   ]
  },
  {
   "cell_type": "code",
   "execution_count": 12,
   "id": "ba68992b",
   "metadata": {},
   "outputs": [
    {
     "name": "stdout",
     "output_type": "stream",
     "text": [
      "please provide your name to access your resultJane\n",
      "Congratulations your scores in thefollowing subjects (Maths,English,Physics and Chmistry)are [90, 80, 74, 65]\n",
      "Record not found\n"
     ]
    }
   ],
   "source": [
    "student_score = {\n",
    "    'Samuel':[87,98,70,86],\n",
    "    'Jane':[90,80,74,65],\n",
    "    'Hope':[65,98,70,70],\n",
    "    'Paul':[75,70,78,80],\n",
    "    'Fatima':[80,82,78,75]\n",
    "}\n",
    "name = input('please provide your name to access your result')\n",
    "for studentname in student_score:\n",
    "    if name == studentname:\n",
    "        print(f'Congratulations your scores in the\\\n",
    "following subjects (Maths,English,Physics and Chmistry)\\\n",
    "are {student_score[name]}')\n",
    "else:\n",
    "    print('Record not found')\n",
    "    \n",
    "          "
   ]
  },
  {
   "cell_type": "code",
   "execution_count": 13,
   "id": "0baaa383",
   "metadata": {},
   "outputs": [
    {
     "name": "stdout",
     "output_type": "stream",
     "text": [
      "please provide your name to access your resultJane\n",
      "Congratulations your scores in thefollowing subjects (Maths,English,Physics and Chmistry)are [90, 80, 74, 65]\n"
     ]
    }
   ],
   "source": [
    "student_score = {\n",
    "    'Samuel':[87,98,70,86],\n",
    "    'Jane':[90,80,74,65],\n",
    "    'Hope':[65,98,70,70],\n",
    "    'Paul':[75,70,78,80],\n",
    "    'Fatima':[80,82,78,75]\n",
    "}\n",
    "name = input('please provide your name to access your result')\n",
    "for studentname in student_score:\n",
    "    if name == studentname:\n",
    "        print(f'Congratulations your scores in the\\\n",
    "following subjects (Maths,English,Physics and Chmistry)\\\n",
    "are {student_score[name]}')\n",
    "        break\n",
    "else:\n",
    "    print('Record not found')\n",
    "    \n",
    "          "
   ]
  },
  {
   "cell_type": "markdown",
   "id": "3a8f79b0",
   "metadata": {},
   "source": [
    "# WHILE LOOP"
   ]
  },
  {
   "cell_type": "code",
   "execution_count": 14,
   "id": "488bf5a3",
   "metadata": {},
   "outputs": [
    {
     "name": "stdout",
     "output_type": "stream",
     "text": [
      "provide a number8\n",
      "The sqrt of 8 is 2.8284271247461903\n",
      "provide a number0\n"
     ]
    }
   ],
   "source": [
    "import math\n",
    "num = int(input('provide a number'))\n",
    "counter = 1\n",
    "while num != 0:\n",
    "    print(f'The sqrt of {num} is {math.sqrt(num)}')\n",
    "    counter = counter + 1\n",
    "    num = int(input('provide a number'))\n",
    "    "
   ]
  },
  {
   "cell_type": "code",
   "execution_count": 19,
   "id": "ab14369e",
   "metadata": {},
   "outputs": [
    {
     "name": "stdout",
     "output_type": "stream",
     "text": [
      "provide your guess5\n",
      "provide your guess6\n",
      "provide your guess8\n",
      "provide your guess4\n",
      "provide your guess2\n",
      "sorry incorrect guess\n"
     ]
    }
   ],
   "source": [
    "import random\n",
    "correct_guess = random.randint (1,20)\n",
    "guess_count = 0\n",
    "guess_limit = 5\n",
    "while guess_count < guess_limit:\n",
    "    guess = int(input('provide your guess'))\n",
    "    guess_count = guess_count + 1\n",
    "    if guess == correct_guess:\n",
    "        print('congratulations guess is correct')\n",
    "        break\n",
    "else:\n",
    "    print('sorry incorrect guess')"
   ]
  },
  {
   "cell_type": "code",
   "execution_count": null,
   "id": "77eceff3",
   "metadata": {},
   "outputs": [],
   "source": []
  }
 ],
 "metadata": {
  "kernelspec": {
   "display_name": "Python 3 (ipykernel)",
   "language": "python",
   "name": "python3"
  },
  "language_info": {
   "codemirror_mode": {
    "name": "ipython",
    "version": 3
   },
   "file_extension": ".py",
   "mimetype": "text/x-python",
   "name": "python",
   "nbconvert_exporter": "python",
   "pygments_lexer": "ipython3",
   "version": "3.9.12"
  }
 },
 "nbformat": 4,
 "nbformat_minor": 5
}
