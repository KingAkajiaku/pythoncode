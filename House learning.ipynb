{
 "cells": [
  {
   "cell_type": "code",
   "execution_count": 15,
   "id": "9c30297e",
   "metadata": {},
   "outputs": [
    {
     "name": "stdout",
     "output_type": "stream",
     "text": [
      "o/r/a/n/g/e/"
     ]
    }
   ],
   "source": [
    "juice = 'orange'\n",
    "for char in juice:\n",
    "    print(char, end ='/')"
   ]
  },
  {
   "cell_type": "code",
   "execution_count": 19,
   "id": "d614b7d2",
   "metadata": {},
   "outputs": [
    {
     "name": "stdout",
     "output_type": "stream",
     "text": [
      "ifeanyi my court marriage will be coming up next month.\n",
      "ebuka my court marriage will be coming up next month.\n",
      "meshack my court marriage will be coming up next month.\n",
      "emma my court marriage will be coming up next month.\n"
     ]
    }
   ],
   "source": [
    "my_guys = ['ifeanyi','ebuka','meshack','emma']\n",
    "for names in my_guys:\n",
    "    print(f'{names} my court marriage will be coming up next month.')\n"
   ]
  },
  {
   "cell_type": "code",
   "execution_count": 26,
   "id": "48af87ae",
   "metadata": {},
   "outputs": [
    {
     "name": "stdout",
     "output_type": "stream",
     "text": [
      "please provide namesjohn\n",
      "don't come\n"
     ]
    }
   ],
   "source": [
    "my_guys = ['ifeanyi','ebuka','meshack','emma']\n",
    "brothers = input('please provide names')\n",
    "for names in my_guys:\n",
    "    if brothers == names:\n",
    "        print(f'{names} my court marriage will be coming up next month.')\n",
    "else:\n",
    "    print('don\\'t come')\n"
   ]
  },
  {
   "cell_type": "code",
   "execution_count": 31,
   "id": "d1d9abf0",
   "metadata": {},
   "outputs": [
    {
     "name": "stdout",
     "output_type": "stream",
     "text": [
      "write your nameEmma\n",
      "Great scores in (maths,chemistry,english) [20, 34, 78] you wrote well.\n"
     ]
    }
   ],
   "source": [
    "scores = {\n",
    "    'Ifeanyi':[70,50,100],\n",
    "    'Ebuka':[10,100,30],\n",
    "    'Meshack':[90,80,45],\n",
    "    'Emma':[20,34,78]\n",
    "}\n",
    "names = input('write your name')\n",
    "for brothers in scores:\n",
    "    if names == brothers:\n",
    "        print(f'Great scores in (maths,chemistry,english) {scores[names]} you wrote well.')"
   ]
  },
  {
   "cell_type": "code",
   "execution_count": 34,
   "id": "f25d49e9",
   "metadata": {},
   "outputs": [
    {
     "name": "stdout",
     "output_type": "stream",
     "text": [
      "write your namejohn\n",
      "Go home and read\n"
     ]
    }
   ],
   "source": [
    "scores = {\n",
    "    'Ifeanyi':[70,50,100],\n",
    "    'Ebuka':[10,100,30],\n",
    "    'Meshack':[90,80,45],\n",
    "    'Emma':[20,34,78]\n",
    "}\n",
    "names = input('write your name')\n",
    "for brothers in scores:\n",
    "    if names == brothers:\n",
    "        print(f'Great scores in (maths,chemistry,english) {scores[names]} you wrote well.')\n",
    "        break\n",
    "else:\n",
    "    print('Go home and read')"
   ]
  },
  {
   "cell_type": "markdown",
   "id": "a4cff673",
   "metadata": {},
   "source": [
    "# class and object"
   ]
  },
  {
   "cell_type": "code",
   "execution_count": 1,
   "id": "6a13e0c7",
   "metadata": {},
   "outputs": [],
   "source": [
    "class human():\n",
    "    feature1 = 'beautiful'\n",
    "    feature2 = 'igbo'\n",
    "    feature3 = 'dark'\n",
    "chinelo = human\n",
    "\n"
   ]
  },
  {
   "cell_type": "code",
   "execution_count": 2,
   "id": "4816e577",
   "metadata": {},
   "outputs": [
    {
     "data": {
      "text/plain": [
       "<__main__.human at 0x23a5b9feeb0>"
      ]
     },
     "execution_count": 2,
     "metadata": {},
     "output_type": "execute_result"
    }
   ],
   "source": [
    "human()"
   ]
  },
  {
   "cell_type": "code",
   "execution_count": 3,
   "id": "ecf5f791",
   "metadata": {},
   "outputs": [
    {
     "data": {
      "text/plain": [
       "'beautiful'"
      ]
     },
     "execution_count": 3,
     "metadata": {},
     "output_type": "execute_result"
    }
   ],
   "source": [
    "human.feature1"
   ]
  },
  {
   "cell_type": "code",
   "execution_count": 4,
   "id": "7da47c75",
   "metadata": {},
   "outputs": [
    {
     "data": {
      "text/plain": [
       "'igbo'"
      ]
     },
     "execution_count": 4,
     "metadata": {},
     "output_type": "execute_result"
    }
   ],
   "source": [
    "human.feature2"
   ]
  },
  {
   "cell_type": "code",
   "execution_count": 11,
   "id": "6eef0beb",
   "metadata": {},
   "outputs": [
    {
     "name": "stdout",
     "output_type": "stream",
     "text": [
      "i am beautiful from an igbo speaking tribe and my complexion is dark\n"
     ]
    }
   ],
   "source": [
    "class human1():\n",
    "    feature1 = 'beautiful'\n",
    "    feature2 = 'igbo'\n",
    "    feature3 = 'dark'\n",
    "    def details(self):\n",
    "        print(f'i am {self.feature1} from an {self.feature2} speaking tribe and my complexion is {self.feature3}')\n",
    "chim = human1()\n",
    "chim.details()\n",
    "\n",
    "    \n",
    "    \n",
    "        \n",
    "    "
   ]
  },
  {
   "cell_type": "code",
   "execution_count": 27,
   "id": "6f26f695",
   "metadata": {},
   "outputs": [],
   "source": [
    "class banking():\n",
    "    def __init__(self):\n",
    "        self.balance = 0\n",
    "    def deposit(self):\n",
    "            amount = float(input('Enter the amount'))\n",
    "            self.balance += amount\n",
    "            print(f'Amount deposited is {amount}')\n",
    "    def withdraw(self):\n",
    "            amount = float(input('Enter the withdraw amount'))\n",
    "            if self.balance >= amount:\n",
    "                self.balance -= amount \n",
    "                print('withdraw successful')\n",
    "            else:\n",
    "                print('insuffient amount')\n",
    "    def transfer(self):\n",
    "            amount = float(input('Enter your transfer amount'))\n",
    "            to_account = float(input('Enter the destination amount'))\n",
    "            if self.balance >= amount:\n",
    "                self.balance -= amount\n",
    "                print('transfer successful')\n",
    "            else:\n",
    "                print('insuffient fund')\n",
    "customers1 = banking()   "
   ]
  },
  {
   "cell_type": "code",
   "execution_count": 29,
   "id": "1634033d",
   "metadata": {},
   "outputs": [
    {
     "name": "stdout",
     "output_type": "stream",
     "text": [
      "Enter the withdraw amount1000\n",
      "withdraw successful\n"
     ]
    }
   ],
   "source": [
    "customers1.withdraw()"
   ]
  },
  {
   "cell_type": "code",
   "execution_count": null,
   "id": "a222042e",
   "metadata": {},
   "outputs": [],
   "source": []
  }
 ],
 "metadata": {
  "kernelspec": {
   "display_name": "Python 3 (ipykernel)",
   "language": "python",
   "name": "python3"
  },
  "language_info": {
   "codemirror_mode": {
    "name": "ipython",
    "version": 3
   },
   "file_extension": ".py",
   "mimetype": "text/x-python",
   "name": "python",
   "nbconvert_exporter": "python",
   "pygments_lexer": "ipython3",
   "version": "3.9.12"
  }
 },
 "nbformat": 4,
 "nbformat_minor": 5
}
