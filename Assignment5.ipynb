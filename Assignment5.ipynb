{
 "cells": [
  {
   "cell_type": "markdown",
   "id": "4fcf1729",
   "metadata": {},
   "source": [
    "# Assignment"
   ]
  },
  {
   "cell_type": "markdown",
   "id": "f075950b",
   "metadata": {},
   "source": [
    "# let's say you are given a time and you have to tell what phase of the day it is (morning,noon,afternoon,evening or night). you will have to check the given time against mutiple ranges of time within which each of the 5 phases lies.therefore, the following conditions:\n",
    "# Morning: 0600 to 1159\n",
    "# Noon; 1200\n",
    "# afternoon: 1201 to 1700\n",
    "# evening: 1701 to 2000\n",
    "# Night:2000 to 0559"
   ]
  },
  {
   "cell_type": "code",
   "execution_count": 12,
   "id": "a366776c",
   "metadata": {},
   "outputs": [],
   "source": [
    "def time():\n",
    "    given_time = float(input('please enter your given time'))\n",
    "    if given_time >= 0.600 and given_time < 1159:\n",
    "        print(f'your time is {given_time} in the morning')\n",
    "    elif given_time == 1200:\n",
    "        print(f'your time is {given_time} noon')      \n",
    "    elif given_time >= 1201 and given_time < 1700:\n",
    "        print(f'your time is {given_time} in the afternoon')\n",
    "    elif given_time >= 1701 and given_time < 2000:\n",
    "        print(f'your time is {given_time} in the evening')\n",
    "    elif given_time >= 2001 and given_time < 1559:\n",
    "        print(f'your time is {given_time} at night')\n",
    "    else:\n",
    "        print('come again')"
   ]
  },
  {
   "cell_type": "code",
   "execution_count": 13,
   "id": "d7d41552",
   "metadata": {},
   "outputs": [
    {
     "name": "stdout",
     "output_type": "stream",
     "text": [
      "please enter your given time1701\n",
      "your time is 1701.0 in the evening\n"
     ]
    }
   ],
   "source": [
    "time()"
   ]
  },
  {
   "cell_type": "markdown",
   "id": "e83bd690",
   "metadata": {},
   "source": [
    "# write a python program to check whether you are eligeable to vote or not? Your program should get the age of the voter from the user and if their age is 18 and above, let them vote otherwise deny them from voting."
   ]
  },
  {
   "cell_type": "code",
   "execution_count": 6,
   "id": "2401e5bd",
   "metadata": {},
   "outputs": [],
   "source": [
    "def inec():\n",
    "    name = str(input('please put in your name:'))\n",
    "    address = str(input('please put in your address:'))\n",
    "    state = str(input('please put in your state name:'))\n",
    "    LGA = str(input('please put in your lg area;'))\n",
    "    voting_ward = str(input('please put in ward'))\n",
    "    age = int(input('please put in your age:'))\n",
    "    if age >= 18 and age < 80:\n",
    "        print('congratulation your eligeable to vote')\n",
    "    elif age >= 10 and age < 18:\n",
    "        print('Sorry go home to your mother you are not eligeable to vote')\n",
    "    else:\n",
    "        print('ERROR')\n",
    "    "
   ]
  },
  {
   "cell_type": "code",
   "execution_count": 7,
   "id": "39dfe5ac",
   "metadata": {},
   "outputs": [
    {
     "name": "stdout",
     "output_type": "stream",
     "text": [
      "please put in your name:chinelo\n",
      "please put in your address:calvary road\n",
      "please put in your state name:abuja\n",
      "please put in your lg area;bwari\n",
      "please put in wardkubwa primary school\n",
      "please put in your age:34\n",
      "congratulation your eligeable to vote\n"
     ]
    }
   ],
   "source": [
    "inec()"
   ]
  },
  {
   "cell_type": "markdown",
   "id": "cdcf572e",
   "metadata": {},
   "source": [
    "3. # TRAFFIC LIGHT. \n",
    "# write a python program that will check for the following conditions: if the light is GREEN - Car is allowed to go,, if the light is YELLOW - Car has to wait,,, if the light is red - Car has to stop.  other signal - unrecogized signal. example black, blue etc "
   ]
  },
  {
   "cell_type": "code",
   "execution_count": 3,
   "id": "93a489bb",
   "metadata": {},
   "outputs": [
    {
     "name": "stdout",
     "output_type": "stream",
     "text": [
      "WELCOME TO TRAFFIC LIGHT CHECKPOINT\n",
      "first light is GREEN\n",
      "second light is YELLOW\n",
      "third light is RED\n",
      "fourth light is BLACK\n",
      "\n",
      "enter the colors you want to checkGREEN\n",
      "car is allowed to go\n"
     ]
    }
   ],
   "source": [
    "print('WELCOME TO TRAFFIC LIGHT CHECKPOINT')\n",
    "print ('''first light is GREEN\n",
    "second light is YELLOW\n",
    "third light is RED\n",
    "fourth light is BLACK\n",
    "''')\n",
    "colours = str(input('enter the colors you want to check'))\n",
    "if colours == 'GREEN':\n",
    "    print('car is allowed to go')\n",
    "elif colours == 'YELLOW':\n",
    "    print('car has to wait')\n",
    "elif colours == 'RED':\n",
    "    print('car has to stop')\n",
    "elif colours == 'BLACK':\n",
    "    print('unrecogized signal')\n",
    "else:\n",
    "    print('ERROR')\n",
    "\n",
    "    \n",
    "\n",
    "    \n",
    "    "
   ]
  },
  {
   "cell_type": "code",
   "execution_count": null,
   "id": "ebd892c0",
   "metadata": {},
   "outputs": [],
   "source": []
  }
 ],
 "metadata": {
  "kernelspec": {
   "display_name": "Python 3 (ipykernel)",
   "language": "python",
   "name": "python3"
  },
  "language_info": {
   "codemirror_mode": {
    "name": "ipython",
    "version": 3
   },
   "file_extension": ".py",
   "mimetype": "text/x-python",
   "name": "python",
   "nbconvert_exporter": "python",
   "pygments_lexer": "ipython3",
   "version": "3.9.12"
  }
 },
 "nbformat": 4,
 "nbformat_minor": 5
}
