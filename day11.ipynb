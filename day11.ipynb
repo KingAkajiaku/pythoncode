{
 "cells": [
  {
   "cell_type": "markdown",
   "id": "1df616e3",
   "metadata": {},
   "source": [
    "# DATE AND TIME"
   ]
  },
  {
   "cell_type": "code",
   "execution_count": 1,
   "id": "cdf3f90e",
   "metadata": {},
   "outputs": [],
   "source": [
    "import datetime"
   ]
  },
  {
   "cell_type": "code",
   "execution_count": 2,
   "id": "4ad8bf70",
   "metadata": {},
   "outputs": [
    {
     "name": "stdout",
     "output_type": "stream",
     "text": [
      "['MAXYEAR', 'MINYEAR', '__all__', '__builtins__', '__cached__', '__doc__', '__file__', '__loader__', '__name__', '__package__', '__spec__', 'date', 'datetime', 'datetime_CAPI', 'sys', 'time', 'timedelta', 'timezone', 'tzinfo']\n"
     ]
    }
   ],
   "source": [
    "print(dir(datetime))"
   ]
  },
  {
   "cell_type": "code",
   "execution_count": 3,
   "id": "6f3f7a30",
   "metadata": {},
   "outputs": [
    {
     "data": {
      "text/plain": [
       "datetime.date(2022, 4, 25)"
      ]
     },
     "execution_count": 3,
     "metadata": {},
     "output_type": "execute_result"
    }
   ],
   "source": [
    "date1 = datetime.date(2022,4,25)\n",
    "date1"
   ]
  },
  {
   "cell_type": "code",
   "execution_count": 4,
   "id": "abe73a27",
   "metadata": {},
   "outputs": [
    {
     "name": "stdout",
     "output_type": "stream",
     "text": [
      "2022\n"
     ]
    }
   ],
   "source": [
    "print(date1.year)"
   ]
  },
  {
   "cell_type": "code",
   "execution_count": 5,
   "id": "a25fb888",
   "metadata": {},
   "outputs": [
    {
     "name": "stdout",
     "output_type": "stream",
     "text": [
      "0\n"
     ]
    }
   ],
   "source": [
    "print(date1.weekday())"
   ]
  },
  {
   "cell_type": "markdown",
   "id": "ea756a7b",
   "metadata": {},
   "source": [
    "# GENERATING THE CURRENT DATE"
   ]
  },
  {
   "cell_type": "code",
   "execution_count": 6,
   "id": "334a7a02",
   "metadata": {},
   "outputs": [
    {
     "data": {
      "text/plain": [
       "datetime.date(2023, 2, 1)"
      ]
     },
     "execution_count": 6,
     "metadata": {},
     "output_type": "execute_result"
    }
   ],
   "source": [
    "currentdate = datetime.date.today()\n",
    "currentdate"
   ]
  },
  {
   "cell_type": "markdown",
   "id": "e0f6796b",
   "metadata": {},
   "source": [
    "# strftime: this is used for the modification of date and time"
   ]
  },
  {
   "cell_type": "code",
   "execution_count": 7,
   "id": "38573c0e",
   "metadata": {},
   "outputs": [
    {
     "data": {
      "text/plain": [
       "'01'"
      ]
     },
     "execution_count": 7,
     "metadata": {},
     "output_type": "execute_result"
    }
   ],
   "source": [
    "currentdate.strftime('%d')"
   ]
  },
  {
   "cell_type": "code",
   "execution_count": 8,
   "id": "55346aff",
   "metadata": {},
   "outputs": [
    {
     "data": {
      "text/plain": [
       "'02/01/23'"
      ]
     },
     "execution_count": 8,
     "metadata": {},
     "output_type": "execute_result"
    }
   ],
   "source": [
    "currentdate.strftime('%D')"
   ]
  },
  {
   "cell_type": "code",
   "execution_count": 9,
   "id": "80dd9fea",
   "metadata": {},
   "outputs": [
    {
     "data": {
      "text/plain": [
       "'February'"
      ]
     },
     "execution_count": 9,
     "metadata": {},
     "output_type": "execute_result"
    }
   ],
   "source": [
    "currentdate.strftime('%B')"
   ]
  },
  {
   "cell_type": "code",
   "execution_count": 10,
   "id": "7ee2c776",
   "metadata": {},
   "outputs": [
    {
     "data": {
      "text/plain": [
       "'Feb'"
      ]
     },
     "execution_count": 10,
     "metadata": {},
     "output_type": "execute_result"
    }
   ],
   "source": [
    "currentdate.strftime('%b')"
   ]
  },
  {
   "cell_type": "code",
   "execution_count": 11,
   "id": "baac7352",
   "metadata": {},
   "outputs": [
    {
     "data": {
      "text/plain": [
       "'2023'"
      ]
     },
     "execution_count": 11,
     "metadata": {},
     "output_type": "execute_result"
    }
   ],
   "source": [
    "currentdate.strftime('%Y')"
   ]
  },
  {
   "cell_type": "code",
   "execution_count": 12,
   "id": "d4ada800",
   "metadata": {},
   "outputs": [
    {
     "data": {
      "text/plain": [
       "'23'"
      ]
     },
     "execution_count": 12,
     "metadata": {},
     "output_type": "execute_result"
    }
   ],
   "source": [
    "currentdate.strftime('%y')"
   ]
  },
  {
   "cell_type": "code",
   "execution_count": 13,
   "id": "7e62e830",
   "metadata": {},
   "outputs": [
    {
     "data": {
      "text/plain": [
       "'01 of February, 2023'"
      ]
     },
     "execution_count": 13,
     "metadata": {},
     "output_type": "execute_result"
    }
   ],
   "source": [
    "currentdate.strftime('%d of %B, %Y')"
   ]
  },
  {
   "cell_type": "code",
   "execution_count": 14,
   "id": "de89cd95",
   "metadata": {},
   "outputs": [
    {
     "data": {
      "text/plain": [
       "datetime.time(12, 57, 58, 902382)"
      ]
     },
     "execution_count": 14,
     "metadata": {},
     "output_type": "execute_result"
    }
   ],
   "source": [
    "currenttime = datetime.datetime.now().time()\n",
    "currenttime"
   ]
  },
  {
   "cell_type": "code",
   "execution_count": 16,
   "id": "b06f8253",
   "metadata": {},
   "outputs": [
    {
     "data": {
      "text/plain": [
       "'12::57::58::PM'"
      ]
     },
     "execution_count": 16,
     "metadata": {},
     "output_type": "execute_result"
    }
   ],
   "source": [
    "currenttime.strftime('%I::%M::%S::%p')"
   ]
  },
  {
   "cell_type": "code",
   "execution_count": 17,
   "id": "a4dfc37e",
   "metadata": {},
   "outputs": [
    {
     "data": {
      "text/plain": [
       "datetime.datetime(2023, 2, 1, 13, 1, 22, 849454)"
      ]
     },
     "execution_count": 17,
     "metadata": {},
     "output_type": "execute_result"
    }
   ],
   "source": [
    "current_date_time = datetime.datetime.now()\n",
    "current_date_time"
   ]
  },
  {
   "cell_type": "markdown",
   "id": "382a099e",
   "metadata": {},
   "source": [
    "# strptime: this is used for the coversion of string date to datetime format\n"
   ]
  },
  {
   "cell_type": "code",
   "execution_count": 19,
   "id": "6ffe515a",
   "metadata": {},
   "outputs": [
    {
     "name": "stdout",
     "output_type": "stream",
     "text": [
      "please provide a date in this format (mm/dd/yy)12/15/2023\n"
     ]
    },
    {
     "data": {
      "text/plain": [
       "datetime.date(2023, 12, 15)"
      ]
     },
     "execution_count": 19,
     "metadata": {},
     "output_type": "execute_result"
    }
   ],
   "source": [
    "date2 = input('please provide a date in this format (mm/dd/yy)')\n",
    "condate2 = datetime.datetime.strptime(date2, '%m/%d/%Y').date()\n",
    "condate2"
   ]
  },
  {
   "cell_type": "code",
   "execution_count": 20,
   "id": "00a1ee94",
   "metadata": {},
   "outputs": [
    {
     "data": {
      "text/plain": [
       "datetime.timedelta(days=282)"
      ]
     },
     "execution_count": 20,
     "metadata": {},
     "output_type": "execute_result"
    }
   ],
   "source": [
    "currentdate - date1"
   ]
  },
  {
   "cell_type": "code",
   "execution_count": 21,
   "id": "3f6923d4",
   "metadata": {},
   "outputs": [
    {
     "data": {
      "text/plain": [
       "datetime.date(2031, 10, 1)"
      ]
     },
     "execution_count": 21,
     "metadata": {},
     "output_type": "execute_result"
    }
   ],
   "source": [
    "currentdate + datetime.timedelta(weeks = 452)"
   ]
  },
  {
   "cell_type": "code",
   "execution_count": 22,
   "id": "f4a6ec6b",
   "metadata": {},
   "outputs": [
    {
     "data": {
      "text/plain": [
       "datetime.datetime(2023, 8, 28, 21, 1, 22, 849454)"
      ]
     },
     "execution_count": 22,
     "metadata": {},
     "output_type": "execute_result"
    }
   ],
   "source": [
    "current_date_time + datetime.timedelta(hours = 5000)"
   ]
  },
  {
   "cell_type": "code",
   "execution_count": 24,
   "id": "9a4b2ed6",
   "metadata": {},
   "outputs": [],
   "source": [
    "# ..\"%I\" #we use this to check 12 hours in time\n",
    "#...\"%H\" # we use this to check 24 hourw in time"
   ]
  },
  {
   "cell_type": "markdown",
   "id": "1328f70f",
   "metadata": {},
   "source": [
    "# EXERCISE\n",
    "\n",
    "# YOU ARE REQUIRED TO WRITE AN APPOINTMENT PROGRAM TO TELL A USER HOW MANY WEEKS AND DAYS THEY HAVE UNTIL AN APPOINMENT FROM THE CURRENT DATE"
   ]
  },
  {
   "cell_type": "code",
   "execution_count": 27,
   "id": "0e80676f",
   "metadata": {},
   "outputs": [
    {
     "name": "stdout",
     "output_type": "stream",
     "text": [
      "please provide your appointment date in the format \"m/d/Y\"05/25/2023\n",
      "please provide your namejohn\n",
      "Hey john you have 16 weeks and 1 days until your appointment\n"
     ]
    }
   ],
   "source": [
    "strappointment = input('please provide your appointment date in the format \"m/d/Y\"')\n",
    "name = input('please provide your name')\n",
    "appointmentdate = datetime.datetime.strptime(strappointment,'%m/%d/%Y').date()\n",
    "currentdate = datetime.date.today()\n",
    "diff = appointmentdate - currentdate\n",
    "tnw = diff.days // 7\n",
    "tnd = diff.days % 7\n",
    "print(f'Hey {name} you have {tnw} weeks and {tnd} days until your appointment')\n",
    "                       "
   ]
  },
  {
   "cell_type": "code",
   "execution_count": null,
   "id": "9c780047",
   "metadata": {},
   "outputs": [],
   "source": []
  }
 ],
 "metadata": {
  "kernelspec": {
   "display_name": "Python 3 (ipykernel)",
   "language": "python",
   "name": "python3"
  },
  "language_info": {
   "codemirror_mode": {
    "name": "ipython",
    "version": 3
   },
   "file_extension": ".py",
   "mimetype": "text/x-python",
   "name": "python",
   "nbconvert_exporter": "python",
   "pygments_lexer": "ipython3",
   "version": "3.9.12"
  }
 },
 "nbformat": 4,
 "nbformat_minor": 5
}
